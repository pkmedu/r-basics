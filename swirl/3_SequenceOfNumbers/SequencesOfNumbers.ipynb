{
    "cells": [
        {
            "cell_type": "markdown",
            "metadata": {},
            "source": "\n"
        },
        {
            "cell_type": "code",
            "execution_count": null,
            "metadata": {},
            "outputs": [],
            "source": [
                "knitr::opts_chunk$set(echo = TRUE)\n",
                "\n"
            ]
        },
        {
            "cell_type": "markdown",
            "metadata": {},
            "source": [
                "## 3. Sequences of Numbers\n",
                "\n",
                "### Author: swirl Team\n",
                "\n",
                "#### Acknowledgements: R Language Concepts and code questions are used here from the swirl package.\n",
                "https://www.r-project.org/nosvn/pandoc/swirl.html\n",
                "\n",
                "### When in swirl\n",
                "\n",
                "You can exit swirl and return to the R prompt (>) at any time by pressing the Esc key.\n",
                "If you are already at the prompt, type bye() to exit and save your progress. When you\n",
                "exit properly, you'll see a short message letting you know you've done so.\n",
                "\n",
                "When you are at the R prompt (>):\n",
                "\n",
                "-- Typing skip() allows you to skip the current question.\n",
                "\n",
                "-- Typing play() lets you experiment with R on your own; swirl will ignore what you do...\n",
                "\n",
                "-- UNTIL you type nxt() which will regain swirl's attention.\n",
                "\n",
                "-- Typing bye() causes swirl to exit. Your progress will be saved.\n",
                "\n",
                "-- Typing main() returns you to swirl's main menu.\n",
                "\n",
                "-- Typing info() displays these options again.\n",
                "\n",
                "Let's get started!\n",
                "Please choose a course, or type 0 to exit swirl.\n",
                "\n",
                "1: R Programming\n",
                "2: Take me to the swirl course repository!\n",
                "\n",
                "Selection: 1\n",
                "\n",
                "In this lesson, you'll learn how to create sequences of numbers in R.\n",
                "\n",
                "The simplest way to create a sequence of numbers in R is by using the `:` \n",
                "operator. Type 1:20 to see how it works.\n"
            ]
        },
        {
            "cell_type": "code",
            "execution_count": null,
            "metadata": {},
            "outputs": [],
            "source": [
                "1:20\n",
                "\n"
            ]
        },
        {
            "cell_type": "markdown",
            "metadata": {},
            "source": [
                "That gave us every integer between (and including) 1 and 20. We could also use it to\n",
                "create a sequence of real numbers. For example, try pi:10.\n"
            ]
        },
        {
            "cell_type": "code",
            "execution_count": null,
            "metadata": {},
            "outputs": [],
            "source": [
                "pi:10\n",
                "\n"
            ]
        },
        {
            "cell_type": "markdown",
            "metadata": {},
            "source": [
                "The result is a vector of real numbers starting with pi (3.142...) and increasing in\n",
                "increments of 1. The upper limit of 10 is never reached, since the next number in our\n",
                "sequence would be greater than 10.\n",
                "\n",
                "What happens if we do 15:1? Give it a try to find out.\n"
            ]
        },
        {
            "cell_type": "code",
            "execution_count": null,
            "metadata": {},
            "outputs": [],
            "source": [
                "15:1\n",
                "\n"
            ]
        },
        {
            "cell_type": "markdown",
            "metadata": {},
            "source": [
                "It counted backwards in increments of 1! It's unlikely we'd want this behavior, but\n",
                "nonetheless it's good to know how it could happen.\n",
                "\n",
                "Remember that if you have questions about a particular R function, you can access its\n",
                "documentation with a question mark followed by the function name: ?function_name_here.\n",
                "However, in the case of an operator like the colon used above, you must enclose the\n",
                "symbol in backticks like this: *?`:`*. (NOTE: The backtick (`) key is generally located in\n",
                "the top left corner of a keyboard, above the Tab key. If you don't have a backtick key,\n",
                "you can use regular quotes.)\n"
            ]
        },
        {
            "cell_type": "code",
            "execution_count": null,
            "metadata": {},
            "outputs": [],
            "source": [
                "?':'\n",
                "\n"
            ]
        },
        {
            "cell_type": "markdown",
            "metadata": {},
            "source": [
                "The most basic use of *seq()* does exactly the same thing as the *`:`* operator. Try seq(1,\n",
                "20) to see this.\n"
            ]
        },
        {
            "cell_type": "code",
            "execution_count": null,
            "metadata": {},
            "outputs": [],
            "source": [
                "seq(1, 20)\n",
                "\n"
            ]
        },
        {
            "cell_type": "markdown",
            "metadata": {},
            "source": "\n"
        },
        {
            "cell_type": "code",
            "execution_count": null,
            "metadata": {},
            "outputs": [],
            "source": [
                "seq(0, 10, by=0.5)\n",
                "\n"
            ]
        },
        {
            "cell_type": "markdown",
            "metadata": {},
            "source": [
                "... we don't care what the increment is and we just want a sequence of 30 numbers\n",
                "between 5 and 10. seq(5, 10, length=30) does the trick. Give it a shot now and store the\n",
                "result in a new variable called my_seq.\n"
            ]
        },
        {
            "cell_type": "code",
            "execution_count": null,
            "metadata": {},
            "outputs": [],
            "source": [
                "my_seq <- seq(5, 10, length=30)\n",
                "\n"
            ]
        },
        {
            "cell_type": "markdown",
            "metadata": {},
            "source": [
                " To confirm that my_seq has length 30, we can use the length() function. Try it now.\n",
                "\n"
            ]
        },
        {
            "cell_type": "code",
            "execution_count": null,
            "metadata": {},
            "outputs": [],
            "source": [
                "length(my_seq)\n",
                "\n"
            ]
        },
        {
            "cell_type": "markdown",
            "metadata": {},
            "source": [
                "Let's pretend we don't know the length of my_seq, but we want to generate a sequence of\n",
                "integers from 1 to N, where N represents the length of the my_seq vector. In other\n",
                "words, we want a new vector (1, 2, 3, ...) that is the same length as my_seq.\n",
                "                         \n",
                "There are several ways we could do this. One possibility is to combine the `:` operator\n",
                "and the length() function like this: *1:length(my_seq)*. Give that a try.\n"
            ]
        },
        {
            "cell_type": "code",
            "execution_count": null,
            "metadata": {},
            "outputs": [],
            "source": [
                "1:length(my_seq)\n",
                "\n"
            ]
        },
        {
            "cell_type": "markdown",
            "metadata": {},
            "source": [
                "Another option is to use seq(along.with = my_seq). Give that a try.\n",
                "\n"
            ]
        },
        {
            "cell_type": "code",
            "execution_count": null,
            "metadata": {},
            "outputs": [],
            "source": [
                "seq(along.with = my_seq)\n",
                "\n"
            ]
        },
        {
            "cell_type": "markdown",
            "metadata": {},
            "source": [
                "However, as is the case with many common tasks, R has a separate built-in function for\n",
                "this purpose called *seq_along()*. Type seq_along(my_seq) to see it in action.\n"
            ]
        },
        {
            "cell_type": "code",
            "execution_count": null,
            "metadata": {},
            "outputs": [],
            "source": [
                "seq_along(my_seq)\n",
                "\n"
            ]
        },
        {
            "cell_type": "markdown",
            "metadata": {},
            "source": [
                "There are often several approaches to solving the same problem, particularly in R.\n",
                "Simple approaches that involve less typing are generally best. It's also important for\n",
                "your code to be readable, so that you and others can figure out what's going on without\n",
                "too much hassle.\n",
                "\n",
                "If R has a built-in function for a particular task, it's likely that function is highly\n",
                "optimized for that purpose and is your best option. As you become a more advanced R\n",
                "programmer, you'll design your own functions to perform tasks when there are no better\n",
                "options. We'll explore writing your own functions in future lessons.\n",
                "\n",
                "One more function related to creating sequences of numbers is rep(), which stands for\n",
                "'replicate'. Let's look at a few uses.\n",
                "\n",
                "If we're interested in creating a vector that contains 40 zeros, we can use rep(0, times\n",
                "= 40). Try it out.\n"
            ]
        },
        {
            "cell_type": "code",
            "execution_count": null,
            "metadata": {},
            "outputs": [],
            "source": [
                "rep(0, times = 40)\n",
                "\n"
            ]
        },
        {
            "cell_type": "markdown",
            "metadata": {},
            "source": "\n"
        },
        {
            "cell_type": "code",
            "execution_count": null,
            "metadata": {},
            "outputs": [],
            "source": [
                "rep(c(0, 1, 2), times = 10)\n",
                "\n"
            ]
        },
        {
            "cell_type": "markdown",
            "metadata": {},
            "source": [
                "Finally, let's say that rather than repeating the vector (0, 1, 2) over and over again,\n",
                "we want our vector to contain 10 zeros, then 10 ones, then 10 twos. We can do this with\n",
                "the `each` argument. Try rep(c(0, 1, 2), each = 10).\n"
            ]
        },
        {
            "cell_type": "code",
            "execution_count": null,
            "metadata": {},
            "outputs": [],
            "source": [
                "rep(c(0, 1, 2), each = 10)\n",
                "\n"
            ]
        }
    ],
    "metadata": {
        "anaconda-cloud": "",
        "kernelspec": {
            "display_name": "R",
            "langauge": "R",
            "name": "ir"
        },
        "language_info": {
            "codemirror_mode": "r",
            "file_extension": ".r",
            "mimetype": "text/x-r-source",
            "name": "R",
            "pygments_lexer": "r",
            "version": "3.4.1"
        }
    },
    "nbformat": 4,
    "nbformat_minor": 1
}
