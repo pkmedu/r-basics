{
    "cells": [
        {
            "cell_type": "markdown",
            "metadata": {},
            "source": "\n"
        },
        {
            "cell_type": "code",
            "execution_count": null,
            "metadata": {},
            "outputs": [],
            "source": [
                "knitr::opts_chunk$set(echo = TRUE)\n",
                "\n"
            ]
        },
        {
            "cell_type": "markdown",
            "metadata": {},
            "source": "\n"
        },
        {
            "cell_type": "code",
            "execution_count": null,
            "metadata": {},
            "outputs": [],
            "source": [
                " library(swirl)\n",
                "\n"
            ]
        },
        {
            "cell_type": "markdown",
            "metadata": {},
            "source": [
                "## 7. Matrices and Data Frames\n",
                "\n",
                "#### Author: swirl Team\n",
                "\n",
                "#### Acknowledgements: R Language Concepts and code questions are used here from the swirl package.\n",
                "https://www.r-project.org/nosvn/pandoc/swirl.html\n",
                "\n",
                "In this lesson, we'll cover matrices and data frames. Both represent 'rectangular' data types,\n",
                "meaning that they are used to store tabular data, with rows and columns.\n",
                "      \n",
                "The main difference, as you'll see, is that matrices can only contain a single class of \n",
                "data, while data frames can  consist of many different classes of data. Let's create a vector \n",
                "containing the numbers 1 through 20 using the `:` operator. Store the result\n",
                "in a variable called my_vector.\n"
            ]
        },
        {
            "cell_type": "code",
            "execution_count": null,
            "metadata": {},
            "outputs": [],
            "source": [
                "  my_vector <- 1:20\n",
                "\n"
            ]
        },
        {
            "cell_type": "markdown",
            "metadata": {},
            "source": [
                "          \n",
                "View the contents of the vector you just created.\n"
            ]
        },
        {
            "cell_type": "code",
            "execution_count": null,
            "metadata": {},
            "outputs": [],
            "source": [
                "  my_vector\n",
                "\n"
            ]
        },
        {
            "cell_type": "markdown",
            "metadata": {},
            "source": [
                "The dim() function tells us the 'dimensions' of an object. What happens if we do dim(my_vector)?\n",
                "Give it a try.\n",
                "    \n"
            ]
        },
        {
            "cell_type": "code",
            "execution_count": null,
            "metadata": {},
            "outputs": [],
            "source": [
                "   dim(my_vector)\n",
                "\n"
            ]
        },
        {
            "cell_type": "markdown",
            "metadata": {},
            "source": [
                "Clearly, that's not very helpful! Since my_vector is a vector, it doesn't have a `dim` attribute\n",
                "(so it's just NULL), but we can find its length using the length() function. Try that now.\n"
            ]
        },
        {
            "cell_type": "code",
            "execution_count": null,
            "metadata": {},
            "outputs": [],
            "source": [
                " length(my_vector)\n",
                "\n"
            ]
        },
        {
            "cell_type": "markdown",
            "metadata": {},
            "source": [
                "                                                                                          \n",
                "Ah! That's what we wanted. But, what happens if we give my_vector a `dim` attribute? Let's give it a try. \n",
                "Type dim(my_vector) <- c(4, 5).\n",
                "      \n"
            ]
        },
        {
            "cell_type": "code",
            "execution_count": null,
            "metadata": {},
            "outputs": [],
            "source": [
                "dim(my_vector) <- c(4, 5)\n",
                "\n"
            ]
        },
        {
            "cell_type": "markdown",
            "metadata": {},
            "source": [
                "         \n",
                "It's okay if that last command seemed a little strange to you. It should! The dim() function allows\n",
                "you to get OR set the `dim` attribute for an R object. In this case, we assigned the value c(4, 5)\n",
                "to the `dim` attribute of my_vector.\n",
                "\n",
                "      Use dim(my_vector) to confirm that we've set the `dim` attribute correctly.\n"
            ]
        },
        {
            "cell_type": "code",
            "execution_count": null,
            "metadata": {},
            "outputs": [],
            "source": [
                "dim(my_vector)\n",
                "\n"
            ]
        },
        {
            "cell_type": "markdown",
            "metadata": {},
            "source": [
                "\n",
                "\n"
            ]
        },
        {
            "cell_type": "code",
            "execution_count": null,
            "metadata": {},
            "outputs": [],
            "source": [
                " attributes(my_vector)\n",
                "\n"
            ]
        },
        {
            "cell_type": "markdown",
            "metadata": {},
            "source": [
                "Just like in math class, when dealing with a 2-dimensional object (think rectangular table), \n",
                "the first number is the number of rows and the second is the number of columns. Therefore, \n",
                "we just gave my_vector 4 rows and 5 columns.     \n",
                "      \n",
                "But, wait! That doesn't sound like a vector any more. Well, it's not. Now it's a matrix. \n",
                "View the contents of my_vector now to see what it looks like.\n"
            ]
        },
        {
            "cell_type": "code",
            "execution_count": null,
            "metadata": {},
            "outputs": [],
            "source": [
                "my_vector\n",
                "\n"
            ]
        },
        {
            "cell_type": "markdown",
            "metadata": {},
            "source": [
                "Now, let's confirm it's actually a matrix by using the class() function. \n",
                "Type class(my_vector) to see what I mean.\n",
                "    \n"
            ]
        },
        {
            "cell_type": "code",
            "execution_count": null,
            "metadata": {},
            "outputs": [],
            "source": [
                "class(my_vector)\n",
                "\n"
            ]
        },
        {
            "cell_type": "markdown",
            "metadata": {},
            "source": [
                "Sure enough, my_vector is now a matrix. We should store it in a new variable that helps us remember \n",
                "what it is. Store the value of my_vector in a new variable called my_matrix.\n",
                "    \n"
            ]
        },
        {
            "cell_type": "code",
            "execution_count": null,
            "metadata": {},
            "outputs": [],
            "source": [
                " my_matrix <- my_vector\n",
                "\n"
            ]
        },
        {
            "cell_type": "markdown",
            "metadata": {},
            "source": [
                "The example that we've used so far was meant to illustrate the point that a matrix is simply an atomic \n",
                "vector with a dimension attribute. A more direct method of creating the same matrix uses the \n",
                "matrix() function.                                                                                                                                                                              \n",
                "Bring up the help file for the matrix() function now using the `?` function.\n"
            ]
        },
        {
            "cell_type": "code",
            "execution_count": null,
            "metadata": {},
            "outputs": [],
            "source": [
                " ?matrix\n",
                "\n"
            ]
        },
        {
            "cell_type": "markdown",
            "metadata": {},
            "source": [
                "Now, look at the documentation for the matrix function and see if you can figure out how to \n",
                "create a matrix containing the same numbers (1-20) and dimensions (4 rows, 5 columns) by \n",
                "calling the matrix() function.\n",
                "      \n",
                "Store the result in a  variable called my_matrix2.\n"
            ]
        },
        {
            "cell_type": "code",
            "execution_count": null,
            "metadata": {},
            "outputs": [],
            "source": [
                "my_matrix2 <- matrix(1:20, nrow = 4, ncol  =  5)\n",
                "\n"
            ]
        },
        {
            "cell_type": "markdown",
            "metadata": {},
            "source": [
                "      \n",
                "Finally, let's confirm that my_matrix and my_matrix2 are actually identical. \n",
                "The identical() function will tell us if its first two arguments are the same. Try it out.\n",
                "      \n"
            ]
        },
        {
            "cell_type": "code",
            "execution_count": null,
            "metadata": {},
            "outputs": [],
            "source": [
                "identical(my_matrix, my_matrix2)\n",
                "\n"
            ]
        },
        {
            "cell_type": "markdown",
            "metadata": {},
            "source": [
                "Now, imagine that the numbers in our table represent some measurements from a clinical experiment, \n",
                "where each row represents one patient and each column represents one variable for which \n",
                "measurements were taken.\n",
                "       \n",
                "We may want to label the rows, so that we know which numbers belong to each patient in the experiment. \n",
                "One way to do this is to add a column to the matrix, which contains the names of all four people.                                                                                   \n",
                "Let's start by creating a character vector containing the names of our patients -- \n",
                "Bill, Gina, Kelly, and Sean. Remember  that double quotes tell R that something is a character string. \n",
                "Store the result in a variable called patients.\n"
            ]
        },
        {
            "cell_type": "code",
            "execution_count": null,
            "metadata": {},
            "outputs": [],
            "source": [
                " patients <- c(\"Bill\", \"Gina\", \"Kelly\", \"Sean\")\n",
                "\n"
            ]
        },
        {
            "cell_type": "markdown",
            "metadata": {},
            "source": [
                "Now we'll use the cbind() function to 'combine columns'. Don't worry about storing the result \n",
                "in a new variable. Just call cbind() with two arguments -- the patients vector and my_matrix.\n"
            ]
        },
        {
            "cell_type": "code",
            "execution_count": null,
            "metadata": {},
            "outputs": [],
            "source": [
                " cbind(patients, my_matrix)\n",
                "\n"
            ]
        },
        {
            "cell_type": "markdown",
            "metadata": {},
            "source": [
                "Something is fishy about our result! It appears that combining the character vector with our matrix \n",
                "of numbers caused everything to be enclosed in double quotes. This means we're left with a matrix of\n",
                "character strings, which is no good.\n",
                "     \n",
                "If you remember back to the beginning of this lesson, I told you that matrices can only contain ONE \n",
                "class of data.Therefore, when we tried to combine a character vector with a numeric matrix, \n",
                "R was forced to 'coerce' the numbers to  characters, hence the double quotes.\n",
                "        \n",
                "This is called 'implicit coercion', because we didn't ask for it. It just happened. But why didn't \n",
                "R just convert the  names of our patients to numbers? I'll let you ponder that question on your own.\n",
                "    \n",
                "So, we're still left with the question of how to include the names of our patients in the table \n",
                "without destroying the integrity of our numeric data. Try the following --\n",
                "my_data <- data.frame(patients, my_matrix)\n",
                "      \n"
            ]
        },
        {
            "cell_type": "code",
            "execution_count": null,
            "metadata": {},
            "outputs": [],
            "source": [
                "my_data <- data.frame(patients, my_matrix)\n",
                "\n"
            ]
        },
        {
            "cell_type": "markdown",
            "metadata": {},
            "source": [
                "Now view the contents of my_data to see what we've come up with.\n",
                "\n"
            ]
        },
        {
            "cell_type": "code",
            "execution_count": null,
            "metadata": {},
            "outputs": [],
            "source": [
                "my_data\n",
                "\n"
            ]
        },
        {
            "cell_type": "markdown",
            "metadata": {},
            "source": [
                "Behind the scenes, the data.frame() function takes any number of arguments and returns a single object of class\n",
                "`data.frame` that is composed of the original objects.\n",
                "                   \n",
                "Let's confirm this by calling the class() function on our newly created data frame.\n"
            ]
        },
        {
            "cell_type": "code",
            "execution_count": null,
            "metadata": {},
            "outputs": [],
            "source": [
                " class(my_data)\n",
                "\n"
            ]
        },
        {
            "cell_type": "markdown",
            "metadata": {},
            "source": [
                "It's also possible to assign names to the individual rows and columns of a data frame, \n",
                "which presents another possible  way of determining which row of values in our table \n",
                "belongs to each patient.                                                                                                                                                                                                                          However, since we've already solved that problem, let's solve a different problem by assigning \n",
                "names to the columns of our data frame so that we know what type of measurement each column\n",
                "represents.   \n",
                "    \n",
                "Since we have six columns (including patient names), we'll need to first create a vector \n",
                "containing one element for each column. Create a character vector called cnames that contains \n",
                "the following values (in order) -- \"patient\", \"age\",\"weight\", \"bp\", \"rating\", \"test\".\n"
            ]
        },
        {
            "cell_type": "code",
            "execution_count": null,
            "metadata": {},
            "outputs": [],
            "source": [
                " cnames <- c(\"patient\", \"age\", \"weight\", \"bp\", \"rating\", \"test\")\n",
                "\n"
            ]
        },
        {
            "cell_type": "markdown",
            "metadata": {},
            "source": [
                "Now, use the colnames() function to set the `colnames` attribute for our data frame. This is similar \n",
                "to the way we used the dim() function earlier in this lesson.\n",
                "     \n"
            ]
        },
        {
            "cell_type": "code",
            "execution_count": null,
            "metadata": {},
            "outputs": [],
            "source": [
                " colnames(my_data) <- cnames\n",
                "\n"
            ]
        },
        {
            "cell_type": "markdown",
            "metadata": {},
            "source": "                                                                                                                        Let's see if that got the job done. Print the contents of my_data.\n"
        },
        {
            "cell_type": "code",
            "execution_count": null,
            "metadata": {},
            "outputs": [],
            "source": [
                "my_data\n",
                "\n"
            ]
        },
        {
            "cell_type": "markdown",
            "metadata": {},
            "source": [
                "In this lesson, you learned the basics of working with two very important and common data structures\n",
                "-- matrices and data frames. There's much more to learn and we'll be covering more advanced topics, \n",
                "particularly with respect to data frames,in future lessons.\n"
            ]
        }
    ],
    "metadata": {
        "anaconda-cloud": "",
        "kernelspec": {
            "display_name": "R",
            "langauge": "R",
            "name": "ir"
        },
        "language_info": {
            "codemirror_mode": "r",
            "file_extension": ".r",
            "mimetype": "text/x-r-source",
            "name": "R",
            "pygments_lexer": "r",
            "version": "3.4.1"
        }
    },
    "nbformat": 4,
    "nbformat_minor": 1
}
