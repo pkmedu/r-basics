{
    "cells": [
        {
            "cell_type": "markdown",
            "metadata": {},
            "source": "\n"
        },
        {
            "cell_type": "code",
            "execution_count": null,
            "metadata": {},
            "outputs": [],
            "source": [
                "knitr::opts_chunk$set(echo = TRUE)\n",
                "\n"
            ]
        },
        {
            "cell_type": "markdown",
            "metadata": {},
            "source": [
                "#library(tinytex)\n",
                "\n",
                "### In this lesson, we will explore some basic building blocks of the R programming language.\n",
                "\n",
                "If at any point you'd like more information on a particular topic related to R,\n",
                "you can type help.start() at the prompt, which will open a menu of resources\n",
                "either within RStudio or your default web browser, depending on your setup).\n",
                "Alternatively, a simple web search often yields the answer you're looking for.\n",
                "\n",
                "In its simplest form, R can be used as an interactive calculator. Type 5 + 7 and press Enter.\n"
            ]
        },
        {
            "cell_type": "code",
            "execution_count": null,
            "metadata": {},
            "outputs": [],
            "source": [
                "5 + 7\n",
                "\n"
            ]
        },
        {
            "cell_type": "markdown",
            "metadata": {},
            "source": [
                "R simply prints the result of 12 by default. However, R is a programming language and often the reason we use a programming language as opposed to a calculator is to automate some process or avoid unnecessary repetition.\n",
                "\n",
                "In this case, we may want to use our result from above in a second calculation.\n",
                "Instead of retyping 5 + 7 every time we need it, we can just create a new\n",
                "variable that stores the result.\n",
                "\n",
                "The way you assign a value to a variable in R is by using the assignment\n",
                "operator, which is just a 'less than' symbol followed by a 'minus' sign. It looks like this: <-\n",
                "\n",
                "Think of the assignment operator as an arrow. You are assigning the value on the\n",
                "right side of the arrow to the variable name on the left side of the arrow.\n",
                "To assign the result of 5 + 7 to a new variable called x, you type x <- 5 + 7.\n",
                "This can be read as 'x gets 5 plus 7'. Give it a try now.\n"
            ]
        },
        {
            "cell_type": "code",
            "execution_count": null,
            "metadata": {},
            "outputs": [],
            "source": [
                "x <- 5 + 7\n",
                "\n"
            ]
        },
        {
            "cell_type": "markdown",
            "metadata": {},
            "source": [
                "You'll notice that R did not print the result of 12 this time. When you use the\n",
                "assignment operator, R assumes that you don't want to see the result immediately, but rather that you intend to use the result for something else later on.\n",
                "\n",
                "To view the contents of the variable x, just type x and press Enter. Try it now.\n"
            ]
        },
        {
            "cell_type": "code",
            "execution_count": null,
            "metadata": {},
            "outputs": [],
            "source": [
                "x\n",
                "\n"
            ]
        },
        {
            "cell_type": "markdown",
            "metadata": {},
            "source": [
                "Now, store the result of x - 3 in a new variable called y.\n",
                "\n"
            ]
        },
        {
            "cell_type": "code",
            "execution_count": null,
            "metadata": {},
            "outputs": [],
            "source": [
                "y <- x - 3\n",
                "\n"
            ]
        },
        {
            "cell_type": "markdown",
            "metadata": {},
            "source": [
                "What is the value of y? Type y to find out.\n",
                "\n"
            ]
        },
        {
            "cell_type": "code",
            "execution_count": null,
            "metadata": {},
            "outputs": [],
            "source": [
                "y\n",
                "\n"
            ]
        },
        {
            "cell_type": "markdown",
            "metadata": {},
            "source": [
                "Now, let's create a small collection of numbers called a vector. Any object that\n",
                "contains data is called a data structure and numeric vectors are the simplest\n",
                "type of data structure in R. In fact, even a single number is considered a vector of length one.\n",
                "\n",
                "The easiest way to create a vector is with the *c()* function, which stands for\n",
                "'concatenate' or 'combine'. To create a vector containing the numbers 1.1, 9, and 3.14, type c(1.1, 9, 3.14). Try it now and store the result in a variable called z.\n"
            ]
        },
        {
            "cell_type": "code",
            "execution_count": null,
            "metadata": {},
            "outputs": [],
            "source": [
                "z <- c(1.1, 9, 3.14)\n",
                "\n"
            ]
        },
        {
            "cell_type": "markdown",
            "metadata": {},
            "source": [
                "Anytime you have questions about a particular function, you can access R's\n",
                "built-in help files via the `?` command. For example, if you want more\n",
                "information on the *c()* function, type *?c* without the parentheses that normally\n",
                "follow a function name. Give it a try.\n"
            ]
        },
        {
            "cell_type": "code",
            "execution_count": null,
            "metadata": {},
            "outputs": [],
            "source": [
                "?c\n",
                "\n"
            ]
        },
        {
            "cell_type": "markdown",
            "metadata": {},
            "source": [
                "Type z to view its contents. Notice that there are no commas separating the\n",
                "values in the output.\n"
            ]
        },
        {
            "cell_type": "code",
            "execution_count": null,
            "metadata": {},
            "outputs": [],
            "source": [
                "z\n",
                "\n"
            ]
        },
        {
            "cell_type": "markdown",
            "metadata": {},
            "source": [
                "You can combine vectors to make a new vector. Create a new vector that contains\n",
                "z, 555, then z again in that order. Don't assign this vector to a new variable,\n",
                "cso that we can just see the result immediately.\n"
            ]
        },
        {
            "cell_type": "code",
            "execution_count": null,
            "metadata": {},
            "outputs": [],
            "source": [
                "c(z, 555, z)\n",
                "\n"
            ]
        },
        {
            "cell_type": "markdown",
            "metadata": {},
            "source": [
                "Numeric vectors can be used in arithmetic expressions. Type the following to see\n",
                "what happens: z * 2 + 100.\n"
            ]
        },
        {
            "cell_type": "code",
            "execution_count": null,
            "metadata": {},
            "outputs": [],
            "source": [
                "z * 2 + 100\n",
                "\n"
            ]
        },
        {
            "cell_type": "markdown",
            "metadata": {},
            "source": [
                "First, R multiplied each of the three elements in z by 2. Then it added 100 to\n",
                "each element to get the result you see above.\n",
                "\n",
                "Other common arithmetic operators are `+`, `-`, `/`, and `^` (where x^2 means 'x\n",
                "squared'). To take the square root, use the sqrt() function and to take the\n",
                "absolute value, use the abs() function.\n",
                "\n",
                "Take the square root of z - 1 and assign it to a new variable called my_sqrt.\n"
            ]
        },
        {
            "cell_type": "code",
            "execution_count": null,
            "metadata": {},
            "outputs": [],
            "source": [
                "my_sqrt <- sqrt(z -1)\n",
                "\n"
            ]
        },
        {
            "cell_type": "markdown",
            "metadata": {},
            "source": [
                "Before we view the contents of the my_sqrt variable, what do you think it\n",
                "contains?\n",
                "\n",
                "1: a vector of length 0 (i.e. an empty vector)\n",
                "\n",
                "2: a vector of length 3\n",
                "\n",
                "3: a single number (i.e a vector of length 1)\n",
                "\n",
                "\n",
                "\n",
                "Think about how R handled the other 'vectorized' operations: element-by-element.\n",
                "\n",
                " Print the contents of my_sqrt.\n"
            ]
        },
        {
            "cell_type": "code",
            "execution_count": null,
            "metadata": {},
            "outputs": [],
            "source": [
                "my_sqrt\n",
                "\n"
            ]
        },
        {
            "cell_type": "markdown",
            "metadata": {},
            "source": [
                "As you may have guessed, R first subtracted 1 from each element of z, then took\n",
                "the square root of each element. This leaves you with a vector of the same length as the original vector z.\n",
                "\n",
                "Now, create a new variable called my_div that gets the value of z divided by\n",
                "my_sqrt.\n"
            ]
        },
        {
            "cell_type": "code",
            "execution_count": null,
            "metadata": {},
            "outputs": [],
            "source": [
                "my_div <- z/my_sqrt\n",
                "\n"
            ]
        },
        {
            "cell_type": "markdown",
            "metadata": {},
            "source": [
                "Which statement do you think is true?\n",
                "\n",
                "1: my_div is a single number (i.e a vector of length 1)\n",
                "\n",
                "2: The first element of my_div is equal to the first element of z divided by the first element of my_sqrt, and so on...\n",
                "\n",
                "3: my_div is undefined\n",
                "\n",
                "Selection: 2\n",
                "\n",
                "You are quite good my friend!\n",
                "\n",
                "Go ahead and print the contents of my_div.\n"
            ]
        },
        {
            "cell_type": "code",
            "execution_count": null,
            "metadata": {},
            "outputs": [],
            "source": [
                "my_div\n",
                "\n"
            ]
        },
        {
            "cell_type": "markdown",
            "metadata": {},
            "source": [
                "Arithmetic operation (`+`, `-`, `*`, etc.) element-by-element\n",
                "If the vectors are of different lengths, R 'recycles' the shorter vector until it is the same length as the longer vector.\n",
                "\n",
                "When we did z * 2 + 100 in our earlier example, z was a vector of length 3, but\n",
                "technically 2 and 100 are each vectors of length 1.\n",
                "\n",
                "Behind the scenes, R is 'recycling' the 2 to make a vector of 2s and the 100 to\n",
                "make a vector of 100s. In other words, when you ask R to compute z * 2 + 100,\n",
                "what it really computes is this: z * c(2, 2, 2) + c(100, 100, 100).\n",
                "\n",
                "To see another example of how this vector 'recycling' works, try adding c(1, 2,\n",
                "3, 4) and c(0, 10). Don't worry about saving the result in a new variable.\n"
            ]
        },
        {
            "cell_type": "code",
            "execution_count": null,
            "metadata": {},
            "outputs": [],
            "source": [
                "c(1, 2, 3, 4) + c(0, 10)\n",
                "\n"
            ]
        },
        {
            "cell_type": "markdown",
            "metadata": {},
            "source": [
                "If the length of the shorter vector does not divide evenly into the length of the longer vector, R will still apply the 'recycling' method, but will throw a\n",
                "warning to let you know something fishy might be going on.\n",
                "\n",
                "Try c(1, 2, 3, 4) + c(0, 10, 100) for an example.\n"
            ]
        },
        {
            "cell_type": "code",
            "execution_count": null,
            "metadata": {},
            "outputs": [],
            "source": [
                "c(1, 2, 3, 4) + c(0, 10, 100)\n",
                "\n"
            ]
        },
        {
            "cell_type": "markdown",
            "metadata": {},
            "source": [
                "Before concluding this lesson, I'd like to show you a couple of time-saving\n",
                "tricks.\n",
                "\n",
                "Earlier in the lesson, you computed z * 2 + 100. Let's pretend that you made a\n",
                "mistake and that you meant to add 1000 instead of 100. You could either re-type\n",
                "the expression, or...\n",
                "\n",
                "In many programming environments, the up arrow will cycle through previous\n",
                "commands. Try hitting the up arrow on your keyboard until you get to this command (z * 2 + 100), then change 100 to 1000 and hit Enter. If the up arrow doesn't work for you, just type the corrected command.\n"
            ]
        },
        {
            "cell_type": "code",
            "execution_count": null,
            "metadata": {},
            "outputs": [],
            "source": [
                "c(1, 2, 3, 4) + c(0, 10, 1000)\n",
                "\n"
            ]
        },
        {
            "cell_type": "markdown",
            "metadata": {},
            "source": [
                "If your environment does not support the up arrow feature, then just type the\n",
                "corrected command to move on.\n",
                "\n",
                "The following five functions are probably swirl-specific - not sure!\n",
                "When you are at the R prompt (>):\n",
                "\n",
                "-- Typing skip() allows you to skip the current question.\n",
                "\n",
                "-- Typing play() lets you experiment with R on your own; swirl will ignore what\n",
                "you do...\n",
                "\n",
                "-- UNTIL you type nxt() which will regain swirl's attention.\n",
                "\n",
                "-- Typing bye() causes swirl to exit. Your progress will be saved.\n",
                "\n",
                "-- Typing main() returns you to swirl's main menu.\n",
                "\n",
                "-- Typing info() displays these options again.\n",
                "\n",
                "In many programming environments, the up arrow will cycle through previous\n",
                "commands. Try hitting the up arrow on your keyboard until you get to this command (z * 2 + 100), then change 100 to 1000 and hit Enter. If the up arrow doesn't work for you, just type the corrected command.\n"
            ]
        }
    ],
    "metadata": {
        "anaconda-cloud": "",
        "kernelspec": {
            "display_name": "R",
            "langauge": "R",
            "name": "ir"
        },
        "language_info": {
            "codemirror_mode": "r",
            "file_extension": ".r",
            "mimetype": "text/x-r-source",
            "name": "R",
            "pygments_lexer": "r",
            "version": "3.4.1"
        }
    },
    "nbformat": 4,
    "nbformat_minor": 1
}
