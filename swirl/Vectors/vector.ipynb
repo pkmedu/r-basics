{
    "cells": [
        {
            "cell_type": "markdown",
            "metadata": {},
            "source": "\n"
        },
        {
            "cell_type": "code",
            "execution_count": null,
            "metadata": {},
            "outputs": [],
            "source": [
                "knitr::opts_chunk$set(echo = TRUE)\n",
                "\n"
            ]
        },
        {
            "cell_type": "markdown",
            "metadata": {},
            "source": [
                "### Vectors come in two different flavors: atomic vectors and lists. An atomic vector\n",
                "### contains exactly one data type, whereas a list may contain multiple data types.\n",
                "### We'll explore atomic vectors further before we get to lists.\n",
                "\n",
                "In previous lessons, we dealt entirely with numeric vectors, which are one type\n",
                "of atomic vector. Other types of atomic vectors include logical, character,\n",
                "integer, and complex. In this lesson, we'll take a closer look at logical and\n",
                "character vectors.\n",
                "\n",
                "Logical vectors can contain the values TRUE, FALSE, and NA (for 'not available').These values are generated as the result of logical 'conditions'. Let's experiment with some simple conditions.\n",
                "\n",
                "First, create a numeric vector num_vect that contains the values 0.5, 55, -10,\n",
                "and 6.\n"
            ]
        },
        {
            "cell_type": "code",
            "execution_count": null,
            "metadata": {},
            "outputs": [],
            "source": [
                "num_vect <- c(0.5, 55, -10, 6)\n",
                "\n"
            ]
        },
        {
            "cell_type": "markdown",
            "metadata": {},
            "source": [
                "Now, create a variable called tf that gets the result of num_vect < 1, which is\n",
                "read as 'num_vect is less than 1'.\n",
                "\n",
                "Remember our lesson on vector arithmetic? The theme was that R performs many\n",
                "operations on an element-by-element basis. We called these 'vectorized'\n",
                "operations.\n",
                "\n",
                "What do you think tf will look like?\n",
                "\n",
                "1: a single logical value\n",
                "2: a vector of 4 logical values\n"
            ]
        },
        {
            "cell_type": "code",
            "execution_count": null,
            "metadata": {},
            "outputs": [],
            "source": [
                "tf <- num_vect<1\n",
                "tf\n"
            ]
        },
        {
            "cell_type": "markdown",
            "metadata": {},
            "source": [
                "The statement num_vect < 1 is a condition and tf tells us whether each\n",
                "corresponding element of our numeric vector num_vect satisfies this condition.\n",
                "                                                                               The first element of num_vect is 0.5, which is less than 1 and therefore the\n",
                "statement 0.5 < 1 is TRUE. The second element of num_vect is 55, which is greater\n",
                "than 1, so the statement 55 < 1 is FALSE. The same logic applies for the third\n",
                "and fourth elements.\n",
                "\n",
                "Let's try another. Type num_vect >= 6 without assigning the result to a new\n",
                "variable.\n"
            ]
        },
        {
            "cell_type": "code",
            "execution_count": null,
            "metadata": {},
            "outputs": [],
            "source": [
                "num_vect>=6\n",
                "\n"
            ]
        },
        {
            "cell_type": "markdown",
            "metadata": {},
            "source": [
                "=====================                                                     \n",
                "This time, we are asking whether each individual element of num_vect is greater\n",
                "than OR equal to 6. Since only 55 and 6 are greater than or equal to 6, the\n",
                "second and fourth elements of the result are TRUE and the first and third\n",
                "elements are FALSE.\n",
                "\n",
                "The `<` and `>=` symbols in these examples are called 'logical operators'. Other\n",
                "logical operators include `>`, `<=`, `==` for exact equality, and `!=` for\n",
                "inequality.\n",
                "\n",
                "If we have two logical expressions, A and B, we can ask whether at least one is\n",
                "TRUE with A | B (logical 'or' a.k.a. 'union') or whether they are both TRUE with\n",
                "A & B (logical 'and' a.k.a. 'intersection'). Lastly, !A is the negation of A and\n",
                "is TRUE when A is FALSE and vice versa.\n",
                "\n",
                "It's a good idea to spend some time playing around with various combinations of\n",
                "these logical operators until you get comfortable with their use. We'll do a few\n",
                "examples here to get you started.\n",
                "\n",
                "Try your best to predict the result of each of the following statements. You can\n",
                "use pencil and paper to work them out if it's helpful. If you get stuck, just\n",
                "guess and you've got a 50% chance of getting the right answer!\n",
                "\n",
                "(3 > 5) & (4 == 4)\n",
                "\n",
                "1: TRUE\n",
                "2: FALSE\n",
                "\n",
                "Selection: 2\n",
                "\n",
                "\n",
                "(TRUE == TRUE) | (TRUE == FALSE)\n",
                "\n",
                "Break this problem down into 2 pieces. The `|` in the middle states that AT LEAST ONE of the pieces is TRUE. Your job is to figure out if that is an accurate statement. If so, the entire condition is TRUE. If not, it's FALSE.\n",
                "\n",
                "1: TRUE\n",
                "2: FALSE\n",
                "\n",
                "Selection: 1\n",
                "\n",
                "((111 >= 111) | !(TRUE)) & ((4 + 1) == 5)\n",
                "\n",
                "1: TRUE\n",
                "2: FALSE\n",
                "\n",
                "Selection: 1\n",
                "\n",
                "Don't worry if you found these to be tricky. They're supposed to be. Working with logical statements in R takes practice, but your efforts will be rewarded in future lessons (e.g. subsetting and control structures).\n",
                "\n",
                "Character vectors are also very common in R. Double quotes are used to\n",
                "distinguish character objects, as in the following example.\n",
                "\n",
                "Create a character vector that contains the following words: \"My\", \"name\", \"is\".\n",
                "Remember to enclose each word in its own set of double quotes, so that R knows\n",
                "they are character strings. Store the vector in a variable called my_char.\n"
            ]
        },
        {
            "cell_type": "code",
            "execution_count": null,
            "metadata": {},
            "outputs": [],
            "source": [
                "my_char <- c(\"My\",\"name\", \"is\")\n",
                "\n"
            ]
        },
        {
            "cell_type": "markdown",
            "metadata": {},
            "source": "Print the contents of my_char to see what it looks like.\n"
        },
        {
            "cell_type": "code",
            "execution_count": null,
            "metadata": {},
            "outputs": [],
            "source": [
                "my_char\n",
                "\n"
            ]
        },
        {
            "cell_type": "markdown",
            "metadata": {},
            "source": [
                "Right now, my_char is a character vector of length 3. Let's say we want to join\n",
                "the elements of my_char together into one continuous character string (i.e. a\n",
                "character vector of length 1). We can do this using the paste() function.\n",
                "\n",
                "Type paste(my_char, collapse = \" \") now. Make sure there's a space between the\n",
                "double quotes in the `collapse` argument. You'll see why in a second.\n"
            ]
        },
        {
            "cell_type": "code",
            "execution_count": null,
            "metadata": {},
            "outputs": [],
            "source": [
                "paste(my_char, collapse = \" \")\n",
                "\n"
            ]
        },
        {
            "cell_type": "markdown",
            "metadata": {},
            "source": [
                "The `collapse` argument to the paste() function tells R that when we join\n",
                "together the elements of the my_char character vector, we'd like to separate them with single spaces.\n",
                "\n",
                "It seems that we're missing something.... Ah, yes! Your name!\n",
                "\n",
                "To add (or 'concatenate') your name to the end of my_char, use the c() function\n",
                "like this: c(my_char, \"your_name_here\"). Place your name in double quotes where\n",
                "I've put \"your_name_here\". Try it now, storing the result in a new variable\n",
                "called my_name.\n"
            ]
        },
        {
            "cell_type": "code",
            "execution_count": null,
            "metadata": {},
            "outputs": [],
            "source": [
                "my_name <- c(my_char, \"Pradip\")\n",
                "my_name\n",
                " \n"
            ]
        },
        {
            "cell_type": "markdown",
            "metadata": {},
            "source": [
                "Now, use the paste() function once more to join the words in my_name together\n",
                "into a single character string. Don't forget to say collapse = \" \"!\n"
            ]
        },
        {
            "cell_type": "code",
            "execution_count": null,
            "metadata": {},
            "outputs": [],
            "source": [
                "paste(my_name, collapse= \" \")\n",
                "\n"
            ]
        },
        {
            "cell_type": "markdown",
            "metadata": {},
            "source": [
                "In this example, we used the paste() function to collapse the elements of a\n",
                "single character vector. paste() can also be used to join the elements of\n",
                "multiple character vectors.\n",
                "\n",
                "In the simplest case, we can join two character vectors that are each of length 1 (i.e. join two words). Try paste(\"Hello\", \"world!\", sep = \" \"), where the `sep` argument tells R that we want to separate the joined elements with a single space.\n"
            ]
        },
        {
            "cell_type": "code",
            "execution_count": null,
            "metadata": {},
            "outputs": [],
            "source": [
                "paste(\"Hello\", \"world!\", sep = \" \")\n",
                "\n"
            ]
        },
        {
            "cell_type": "markdown",
            "metadata": {},
            "source": [
                "For a slightly more complicated example, we can join two vectors, each of length\n",
                "3. Use paste() to join the integer vector 1:3 with the character vector c(\"X\",\n",
                "\"Y\", \"Z\"). This time, use sep = \"\" to leave no space between the joined elements.\n"
            ]
        },
        {
            "cell_type": "code",
            "execution_count": null,
            "metadata": {},
            "outputs": [],
            "source": [
                "paste(c(1:3),c(\"X\", \"Y\", \"Z\"), sep=\"\")\n",
                "\n"
            ]
        },
        {
            "cell_type": "markdown",
            "metadata": {},
            "source": [
                "What do you think will happen if our vectors are of different length? (Hint: we\n",
                "talked about this in a previous lesson.)\n",
                "\n",
                "Vector recycling! Try paste(LETTERS, 1:4, sep = \"-\"), where LETTERS is a\n",
                "predefined variable in R containing a character vector of all 26 letters in the\n",
                "English alphabet.\n"
            ]
        },
        {
            "cell_type": "code",
            "execution_count": null,
            "metadata": {},
            "outputs": [],
            "source": [
                "paste(LETTERS, 1:4, sep = \"-\")\n",
                "\n"
            ]
        },
        {
            "cell_type": "markdown",
            "metadata": {},
            "source": [
                "Since the character vector LETTERS is longer than the numeric vector 1:4, R\n",
                "simply recycles, or repeats, 1:4 until it matches the length of LETTERS.\n",
                "\n",
                "Also worth noting is that the numeric vector 1:4 gets 'coerced' into a character\n",
                "vector by the paste() function.\n",
                "\n",
                "We'll discuss coercion in another lesson, but all it really means is that the\n",
                "numbers 1, 2, 3, and 4 in the output above are no longer numbers to R, but rather characters \"1\", \"2\", \"3\", and \"4\".\n"
            ]
        }
    ],
    "metadata": {
        "anaconda-cloud": "",
        "kernelspec": {
            "display_name": "R",
            "langauge": "R",
            "name": "ir"
        },
        "language_info": {
            "codemirror_mode": "r",
            "file_extension": ".r",
            "mimetype": "text/x-r-source",
            "name": "R",
            "pygments_lexer": "r",
            "version": "3.4.1"
        }
    },
    "nbformat": 4,
    "nbformat_minor": 1
}
