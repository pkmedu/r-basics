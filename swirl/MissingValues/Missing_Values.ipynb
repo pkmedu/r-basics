{
    "cells": [
        {
            "cell_type": "markdown",
            "metadata": {},
            "source": "\n"
        },
        {
            "cell_type": "code",
            "execution_count": null,
            "metadata": {},
            "outputs": [],
            "source": [
                "knitr::opts_chunk$set(echo = TRUE)\n",
                "\n"
            ]
        },
        {
            "cell_type": "markdown",
            "metadata": {},
            "source": [
                "### Missing values play an important role in statistics and data analysis. Often,\n",
                "### missing values must not be ignored, but rather they should be carefully studied\n",
                "### to see if there's an underlying pattern or cause for their missingness.\n",
                "\n",
                "In R, NA is used to represent any value that is 'not available' or 'missing' (in\n",
                "the statistical sense). In this lesson, we'll explore missing values further.\n",
                "\n",
                "Any operation involving NA generally yields NA as the result. To illustrate,\n",
                "let's create a vector c(44, NA, 5, NA) and assign it to a variable x.\n"
            ]
        },
        {
            "cell_type": "code",
            "execution_count": null,
            "metadata": {},
            "outputs": [],
            "source": [
                "x <- c(44, NA, 5, NA)\n",
                "\n"
            ]
        },
        {
            "cell_type": "markdown",
            "metadata": {},
            "source": [
                "Now, let's multiply x by 3.\n",
                "\n"
            ]
        },
        {
            "cell_type": "code",
            "execution_count": null,
            "metadata": {},
            "outputs": [],
            "source": [
                "x*3\n",
                "\n"
            ]
        },
        {
            "cell_type": "markdown",
            "metadata": {},
            "source": [
                "Notice that the elements of the resulting vector that correspond with the NA\n",
                "values in x are also NA.\n",
                "\n",
                "To make things a little more interesting, lets create a vector containing 1000\n",
                "draws from a standard normal distribution with y <- rnorm(1000).\n"
            ]
        },
        {
            "cell_type": "code",
            "execution_count": null,
            "metadata": {},
            "outputs": [],
            "source": [
                "y <- rnorm(1000)\n",
                "\n"
            ]
        },
        {
            "cell_type": "markdown",
            "metadata": {},
            "source": [
                "Next, let's create a vector containing 1000 NAs with z <- rep(NA, 1000).\n",
                "\n"
            ]
        },
        {
            "cell_type": "code",
            "execution_count": null,
            "metadata": {},
            "outputs": [],
            "source": [
                "z <- rep(NA, 1000)\n",
                "\n"
            ]
        },
        {
            "cell_type": "markdown",
            "metadata": {},
            "source": [
                " Finally, let's select 100 elements at random from these 2000 values (combining y and z) such that we don't know how many NAs we'll wind up with or what positions they'll occupy in our final vector -- my_data <- sample(c(y, z), 100).\n",
                "\n"
            ]
        },
        {
            "cell_type": "code",
            "execution_count": null,
            "metadata": {},
            "outputs": [],
            "source": [
                "z <- rep(NA, 1000)\n",
                "\n"
            ]
        },
        {
            "cell_type": "markdown",
            "metadata": {},
            "source": [
                "Try again. Getting it right on the first try is boring anyway! Or, type info()\n",
                "for more options.\n",
                "\n",
                "The sample() function draws a random sample from the data provided as its first\n",
                "argument (in this case c(y, z)) of the size specified by the second argument\n",
                "(100). The command my_data <- sample(c(y, z), 100) will give us what we want.\n"
            ]
        },
        {
            "cell_type": "code",
            "execution_count": null,
            "metadata": {},
            "outputs": [],
            "source": [
                "my_data <- sample(c(y, z), 100)\n",
                "\n"
            ]
        },
        {
            "cell_type": "markdown",
            "metadata": {},
            "source": [
                "Let's first ask the question of where our NAs are located in our data. The\n",
                "is.na() function tells us whether each element of a vector is NA. Call is.na() on my_data and assign the result to my_na.\n"
            ]
        },
        {
            "cell_type": "code",
            "execution_count": null,
            "metadata": {},
            "outputs": [],
            "source": [
                "my_na <- is.na(my_data)\n",
                "\n"
            ]
        },
        {
            "cell_type": "markdown",
            "metadata": {},
            "source": [
                "Everywhere you see a TRUE, you know the corresponding element of my_data is NA.\n",
                "Likewise, everywhere you see a FALSE, you know the corresponding element of\n",
                "my_data is one of our random draws from the standard normal distribution.\n",
                "\n",
                "In our previous discussion of logical operators, we introduced the `==` operator\n",
                "as a method of testing for equality between two objects. So, you might think the\n",
                "expression my_data == NA yields the same results as is.na(). Give it a try.\n"
            ]
        },
        {
            "cell_type": "code",
            "execution_count": null,
            "metadata": {},
            "outputs": [],
            "source": [
                "my_data == NA\n",
                "\n"
            ]
        },
        {
            "cell_type": "markdown",
            "metadata": {},
            "source": [
                "The reason you got a vector of all NAs is that NA is not really a value, but justa placeholder for a quantity that is not available. Therefore the logical\n",
                "expression is incomplete and R has no choice but to return a vector of the samelength as my_data that contains all NAs.\n",
                "\n",
                "Don't worry if that's a little confusing. The key takeaway is to be cautious when using logical expressions anytime NAs might creep in, since a single NA value can derail the entire thing.\n",
                "\n",
                "So, back to the task at hand. Now that we have a vector, my_na, that has a TRUE for every NA and FALSE for every numeric value, we can compute the total number\n",
                "of NAs in our data.\n",
                "\n",
                "The number 1 and FALSE as the number 0. Therefore, if we take the sum of a bunch ofTRUEs and FALSEs, we get the total number of TRUEs.\n",
                "\n",
                "Let's give that a try here. Call the sum() function on my_na to count the total\n",
                "number of TRUEs in my_na, and thus the total number of NAs in my_data. Don't\n",
                "assign the result to a new variable.\n"
            ]
        },
        {
            "cell_type": "code",
            "execution_count": null,
            "metadata": {},
            "outputs": [],
            "source": [
                "sum(my_na)\n",
                "\n"
            ]
        },
        {
            "cell_type": "markdown",
            "metadata": {},
            "source": [
                "Pretty cool, huh? Finally, let's take a look at the data to convince ourselves\n",
                "that everything 'adds up'. Print my_data to the console.\n"
            ]
        },
        {
            "cell_type": "code",
            "execution_count": null,
            "metadata": {},
            "outputs": [],
            "source": [
                "my_data\n",
                "\n"
            ]
        },
        {
            "cell_type": "markdown",
            "metadata": {},
            "source": [
                "Now that we've got NAs down pat, let's look at a second type of missing value --\n",
                "NaN, which stands for 'not a number'. To generate NaN, try dividing (using a\n",
                "forward slash) 0 by 0 now.\n"
            ]
        },
        {
            "cell_type": "code",
            "execution_count": null,
            "metadata": {},
            "outputs": [],
            "source": [
                "0/0\n",
                "\n"
            ]
        },
        {
            "cell_type": "markdown",
            "metadata": {},
            "source": [
                "Let's do one more, just for fun. In R, Inf stands for infinity. What happens if\n",
                "you subtract Inf from Inf?\n"
            ]
        },
        {
            "cell_type": "code",
            "execution_count": null,
            "metadata": {},
            "outputs": [],
            "source": [
                "Inf-Inf\n",
                "\n"
            ]
        }
    ],
    "metadata": {
        "anaconda-cloud": "",
        "kernelspec": {
            "display_name": "R",
            "langauge": "R",
            "name": "ir"
        },
        "language_info": {
            "codemirror_mode": "r",
            "file_extension": ".r",
            "mimetype": "text/x-r-source",
            "name": "R",
            "pygments_lexer": "r",
            "version": "3.4.1"
        }
    },
    "nbformat": 4,
    "nbformat_minor": 1
}
