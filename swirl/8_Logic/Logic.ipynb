{
    "cells": [
        {
            "cell_type": "markdown",
            "metadata": {},
            "source": "\n"
        },
        {
            "cell_type": "code",
            "execution_count": null,
            "metadata": {},
            "outputs": [],
            "source": [
                "knitr::opts_chunk$set(echo = TRUE)\n",
                "\n"
            ]
        },
        {
            "cell_type": "markdown",
            "metadata": {},
            "source": [
                "## 8. Logic\n",
                "#### Author: swirl Team\n",
                "\n",
                "#### Acknowledgements:R Language Concepts and code questions are used here from the swirl package.\n",
                "\n",
                "https://www.r-project.org/nosvn/pandoc/swirl.html\n"
            ]
        },
        {
            "cell_type": "code",
            "execution_count": null,
            "metadata": {},
            "outputs": [],
            "source": [
                "library(swirl)\n",
                "\n"
            ]
        },
        {
            "cell_type": "markdown",
            "metadata": {},
            "source": [
                "Type ls() to see a list of the variables in your workspace. Then, type rm(list=ls()) to clear your workspace.\n",
                "\n",
                "This lesson is meant to be a short introduction to logical operations in R.\n"
            ]
        },
        {
            "cell_type": "code",
            "execution_count": null,
            "metadata": {},
            "outputs": [],
            "source": [
                "rm(list=ls()) \n",
                "\n"
            ]
        },
        {
            "cell_type": "markdown",
            "metadata": {},
            "source": [
                "                                                                                                               \n",
                "There are two logical values in R, also called boolean values. They are TRUE and FALSE. In R you can\n",
                "construct logical expressions which will evaluate to either TRUE or FALSE.\n",
                "\n",
                "Many of the questions in this lesson will involve evaluating logical expressions. It may be useful \n",
                "to open up a second R terminal where you can experiment with some of these expressions.\n",
                "\n",
                "                                                                                                          \n",
                "Creating logical expressions requires logical operators. You're probably familiar with arithmetic \n",
                "operators like `+`,`-`, `*`, and `/`. The first logical operator we are going to discuss\n",
                "is the equality operator, represented by two equals signs `==`. Use the equality operator \n",
                "below to find out if TRUE is equal to TRUE.\n"
            ]
        },
        {
            "cell_type": "code",
            "execution_count": null,
            "metadata": {},
            "outputs": [],
            "source": [
                " (8 + 7) == 15\n",
                "\n"
            ]
        },
        {
            "cell_type": "markdown",
            "metadata": {},
            "source": [
                "Not exactly. Give it another go. Or, type info() for more options.\n",
                "\n",
                "Use the equality operator and type TRUE == TRUE\n"
            ]
        },
        {
            "cell_type": "code",
            "execution_count": null,
            "metadata": {},
            "outputs": [],
            "source": [
                "TRUE == TRUE\n",
                "\n"
            ]
        },
        {
            "cell_type": "markdown",
            "metadata": {},
            "source": [
                "                                                                                                 \n",
                "Just like arithmetic, logical expressions can be grouped by parenthesis so that the entire expression \n",
                "(TRUE == TRUE) == TRUE evaluates to TRUE.\n",
                "\n",
                "                                                                                                     \n",
                "To test out this property, try evaluating (FALSE == TRUE) == FALSE .\n"
            ]
        },
        {
            "cell_type": "code",
            "execution_count": null,
            "metadata": {},
            "outputs": [],
            "source": [
                "(FALSE == TRUE) == FALSE\n",
                "\n"
            ]
        },
        {
            "cell_type": "markdown",
            "metadata": {},
            "source": [
                "                                                                                              \n",
                "The equality operator can also be used to compare numbers. Use `==` to see if 6 is equal to 7.\n"
            ]
        },
        {
            "cell_type": "code",
            "execution_count": null,
            "metadata": {},
            "outputs": [],
            "source": [
                " 6 == 7\n",
                "\n"
            ]
        },
        {
            "cell_type": "markdown",
            "metadata": {},
            "source": [
                "The previous expression evaluates to FALSE because 6 is less than 7. Thankfully, there are inequality \n",
                "operators that allow us to test if a value is less than or greater than another value.\n",
                "                                                                                          \n",
                "The less than operator `<` tests whether the number on the left side of the operator (called the left operand)\n",
                "is less than the number on the right side of the operator (called the right operand). \n",
                "Write an expression to test whether 6 is less than 7.\n"
            ]
        },
        {
            "cell_type": "code",
            "execution_count": null,
            "metadata": {},
            "outputs": [],
            "source": [
                "6 < 7\n",
                "\n"
            ]
        },
        {
            "cell_type": "markdown",
            "metadata": {},
            "source": [
                "There is also a less-than-or-equal-to operator `<=` which tests whether the left operand is less\n",
                "than or equal to the right operand. Write an expression to test whether 10 is less than or equal to 10.\n"
            ]
        },
        {
            "cell_type": "code",
            "execution_count": null,
            "metadata": {},
            "outputs": [],
            "source": [
                "10 <= 10\n",
                "\n"
            ]
        },
        {
            "cell_type": "markdown",
            "metadata": {},
            "source": [
                "Keep in mind that there are the corresponding greater than `>` and greater-than-or-equal-to `>=` operators.\n",
                "\n",
                "Which of the following evaluates to FALSE?\n",
                "\n",
                "1: 0 > -36\n",
                "\n",
                "2: 7 == 7\n",
                "\n",
                "3: 9 >= 10\n",
                "\n",
                "4: 6 < 8\n",
                "\n",
                "Selection: 3\n"
            ]
        },
        {
            "cell_type": "code",
            "execution_count": null,
            "metadata": {},
            "outputs": [],
            "source": [
                "9 >= 10\n",
                "\n"
            ]
        },
        {
            "cell_type": "markdown",
            "metadata": {},
            "source": [
                "Which of the following evaluates to TRUE?\n",
                "\n",
                "1: 7 == 9\n",
                "\n",
                "2: 9 >= 10\n",
                "\n",
                "3: 57 < 8\n",
                "\n",
                "4: -6 > -7\n",
                "\n",
                "Selection: 4\n"
            ]
        },
        {
            "cell_type": "code",
            "execution_count": null,
            "metadata": {},
            "outputs": [],
            "source": [
                "-6 > -7\n",
                "\n"
            ]
        },
        {
            "cell_type": "markdown",
            "metadata": {},
            "source": [
                "The next operator we will discuss is the 'not equals' operator represented by `!=`. Not equals tests \n",
                "whether two values are unequal, so TRUE != FALSE evaluates to TRUE. Like the equality operator,\n",
                "`!=` can also be used with numbers. Try writing an expression to see if 5 is not equal to 7.\n"
            ]
        },
        {
            "cell_type": "code",
            "execution_count": null,
            "metadata": {},
            "outputs": [],
            "source": [
                "5 != 7 \n",
                "\n"
            ]
        },
        {
            "cell_type": "markdown",
            "metadata": {},
            "source": [
                "Let's take a moment to review. The equals operator `==` tests whether two boolean values or numbers \n",
                "are equal, the not equals operator `!=` tests whether two boolean values or numbers are unequal,\n",
                "and the NOT operator `!` negates logical expressions so that TRUE expressions become FALSE and FALSE \n",
                "expressions become TRUE.\n",
                "\n",
                "Which of the following evaluates to FALSE?\n",
                "\n",
                "1: 7 != 8\n",
                "\n",
                "2: !FALSE\n",
                "\n",
                "3: 9 < 10\n",
                "\n",
                "4: !(0 >= -1)\n",
                "\n",
                "Selection: 4\n"
            ]
        },
        {
            "cell_type": "code",
            "execution_count": null,
            "metadata": {},
            "outputs": [],
            "source": [
                "!(0 >= -1)\n",
                "\n"
            ]
        },
        {
            "cell_type": "markdown",
            "metadata": {},
            "source": [
                " What do you think the following expression will evaluate to?: (TRUE != FALSE) == !(6 == 7)\n",
                "\n",
                "1: FALSE\n",
                "\n",
                "2: Can there be objective truth when programming?\n",
                "\n",
                "3: %>%\n",
                "\n",
                "4: TRUE\n",
                "\n",
                "Selection: 4\n"
            ]
        },
        {
            "cell_type": "code",
            "execution_count": null,
            "metadata": {},
            "outputs": [],
            "source": [
                "(TRUE != FALSE) == !(6 == 7)\n",
                "\n"
            ]
        },
        {
            "cell_type": "markdown",
            "metadata": {},
            "source": [
                "At some point you may need to examine relationships between multiple logical expressions. \n",
                "This is where the AND operator and the OR operator come in.\n",
                "\n",
                "Let's look at how the AND operator works. There are two AND operators in R, `&` and `&&`. \n",
                "Both operators work similarly, if the right and left operands of AND are both TRUE the \n",
                "entire expression is TRUE, otherwise it is FALSE. For example, TRUE & TRUE evaluates to TRUE. \n",
                "Try typing FALSE & FALSE to how it is evaluated.\n"
            ]
        },
        {
            "cell_type": "code",
            "execution_count": null,
            "metadata": {},
            "outputs": [],
            "source": [
                "FALSE & FALSE\n",
                "\n"
            ]
        },
        {
            "cell_type": "markdown",
            "metadata": {},
            "source": [
                "You can use the `&` operator to evaluate AND across a vector. The `&&` version of AND only evaluates the \n",
                "first member of a vector. Let's test both for practice. Type the expression TRUE & c(TRUE, FALSE, FALSE).\n"
            ]
        },
        {
            "cell_type": "code",
            "execution_count": null,
            "metadata": {},
            "outputs": [],
            "source": [
                " TRUE & c(TRUE, FALSE, FALSE)\n",
                "\n"
            ]
        },
        {
            "cell_type": "markdown",
            "metadata": {},
            "source": [
                "operand. This is the equivalent statement as c(TRUE, TRUE, TRUE) & c(TRUE, FALSE, FALSE).\n",
                "\n"
            ]
        },
        {
            "cell_type": "code",
            "execution_count": null,
            "metadata": {},
            "outputs": [],
            "source": [
                "TRUE && c(TRUE, FALSE, FALSE)\n",
                "\n"
            ]
        },
        {
            "cell_type": "markdown",
            "metadata": {},
            "source": [
                "In this case, the left operand is only evaluated with the first member of the right operand (the vector). \n",
                "The rest of the elements in the vector aren't evaluated at all in this expression.\n",
                "\n",
                "The OR operator follows a similar set of rules. The `|` version of OR evaluates OR across an entire\n",
                "vector, while the `||` version of OR only evaluates the first member of a vector.\n",
                "\n",
                "An expression using the OR operator will evaluate to TRUE if the left operand or the right operand is TRUE. \n",
                "If both are TRUE, the expression will evaluate to TRUE, however if neither are TRUE, then the expression \n",
                "will be FALSE.\n",
                "\n",
                "Let's test out the vectorized version of the OR operator. Type the expression TRUE | c(TRUE, FALSE, FALSE).\n"
            ]
        },
        {
            "cell_type": "code",
            "execution_count": null,
            "metadata": {},
            "outputs": [],
            "source": [
                "TRUE | c(TRUE, FALSE, FALSE)\n",
                "\n"
            ]
        },
        {
            "cell_type": "markdown",
            "metadata": {},
            "source": [
                "Now let's try out the non-vectorized version of the OR operator. Type the expression TRUE || c(TRUE, FALSE, FALSE).\n",
                "\n"
            ]
        },
        {
            "cell_type": "code",
            "execution_count": null,
            "metadata": {},
            "outputs": [],
            "source": [
                "TRUE || c(TRUE, FALSE, FALSE)\n",
                "\n"
            ]
        },
        {
            "cell_type": "markdown",
            "metadata": {},
            "source": [
                "Logical operators can be chained together just like arithmetic operators. \n",
                "The expressions: `6 != 10 && FALSE && 1 >= 2`\n",
                "or `TRUE || 5 < 9.3 || FALSE` are perfectly normal to see.\n",
                "\n",
                "As you may recall, arithmetic has an order of operations and so do logical expressions. \n",
                "All AND operators are evaluated before OR operators. Let's look at an example of an ambiguous\n",
                "case. Type: 5 > 8 || 6 != 8 && 4 > 3.9\n"
            ]
        },
        {
            "cell_type": "code",
            "execution_count": null,
            "metadata": {},
            "outputs": [],
            "source": [
                " 5 > 8 || 6 != 8 && 4 > 3.9\n",
                "\n"
            ]
        },
        {
            "cell_type": "markdown",
            "metadata": {},
            "source": [
                "Let's walk through the order of operations in the above case. First the left and right operands of the AND \n",
                "operator are evaluated. 6 is not equal 8, 4 is greater than 3.9, therefore both operands are TRUE so the \n",
                "resulting expression `TRUE && TRUE` evaluates to TRUE. \n",
                "\n",
                "Then the left operand of the OR operator is evaluated: \n",
                "5 is not greater than 8 so the entire expression is reduced to FALSE || TRUE. \n",
                "Since the right operand of this expression is TRUE the entire expression evaluates to TRUE.\n",
                "\n",
                "Which one of the following expressions evaluates to TRUE?\n",
                "\n",
                "1: 99.99 > 100 || 45 < 7.3 || 4 != 4.0\n",
                "\n",
                "2: TRUE && 62 < 62 && 44 >= 44\n",
                "\n",
                "3: FALSE || TRUE && FALSE\n",
                "\n",
                "4: TRUE && FALSE || 9 >= 4 && 3 < 6\n",
                "\n",
                "Selection: 4\n"
            ]
        },
        {
            "cell_type": "code",
            "execution_count": null,
            "metadata": {},
            "outputs": [],
            "source": [
                "TRUE && FALSE || 9 >= 4 && 3 < 6\n",
                "\n"
            ]
        },
        {
            "cell_type": "markdown",
            "metadata": {},
            "source": [
                "Which one of the following expressions evaluates to FALSE?\n",
                "\n",
                "1: FALSE && 6 >= 6 || 7 >= 8 || 50 <= 49.5\n",
                "\n",
                "2: FALSE || TRUE && 6 != 4 || 9 > 4\n",
                "\n",
                "3: !(8 > 4) ||  5 == 5.0 && 7.8 >= 7.79\n",
                "\n",
                "4: 6 >= -9 && !(6 > 7) && !(!TRUE)\n",
                "\n",
                "Selection: 1\n"
            ]
        },
        {
            "cell_type": "code",
            "execution_count": null,
            "metadata": {},
            "outputs": [],
            "source": [
                "FALSE && 6 >= 6 || 7 >= 8 || 50 <= 49.5\n",
                "\n"
            ]
        },
        {
            "cell_type": "markdown",
            "metadata": {},
            "source": [
                "Now that you're familiar with R's logical operators you can take advantage of a few functions that\n",
                "R provides for dealing with logical expressions.\n",
                "\n",
                "The function isTRUE() takes one argument. If that argument evaluates to TRUE, the function will \n",
                "return TRUE. Otherwise, the function will return FALSE. Try using this function by typing: isTRUE(6 > 4)\n"
            ]
        },
        {
            "cell_type": "code",
            "execution_count": null,
            "metadata": {},
            "outputs": [],
            "source": [
                "isTRUE(6 > 4)\n",
                "\n"
            ]
        },
        {
            "cell_type": "markdown",
            "metadata": {},
            "source": [
                "Which of the following evaluates to TRUE?\n",
                "\n",
                "1: isTRUE(!TRUE)\n",
                "\n",
                "2: !isTRUE(4 < 3)\n",
                "\n",
                "3: isTRUE(3)\n",
                "\n",
                "4: isTRUE(NA)\n",
                "\n",
                "5: !isTRUE(8 != 5)\n",
                "\n",
                "Selection: 2\n"
            ]
        },
        {
            "cell_type": "code",
            "execution_count": null,
            "metadata": {},
            "outputs": [],
            "source": [
                "!isTRUE(4 < 3)\n",
                "\n"
            ]
        },
        {
            "cell_type": "markdown",
            "metadata": {},
            "source": [
                "The function identical() will return TRUE if the two R objects passed to it as arguments are identical.\n",
                "Try out the identical() function by typing: identical('twins', 'twins')\n"
            ]
        },
        {
            "cell_type": "code",
            "execution_count": null,
            "metadata": {},
            "outputs": [],
            "source": [
                "identical('twins', 'twins')\n",
                "\n"
            ]
        },
        {
            "cell_type": "markdown",
            "metadata": {},
            "source": [
                "identical() will only evaluate to TRUE if its arguments are exactly the same.\n",
                "\n",
                "1: identical(5 > 4, 3 < 3.1)\n",
                "\n",
                "2: identical('hello', 'Hello')\n",
                "\n",
                "3: identical(4, 3.1)\n",
                "\n",
                "4: !identical(7, 7)\n",
                "\n",
                "Selection: 1\n"
            ]
        },
        {
            "cell_type": "code",
            "execution_count": null,
            "metadata": {},
            "outputs": [],
            "source": [
                "identical(5 > 4, 3 < 3.1)\n",
                "\n"
            ]
        },
        {
            "cell_type": "markdown",
            "metadata": {},
            "source": [
                "You should also be aware of the xor() function, which takes two arguments. \n",
                "The xor() function stands for exclusive OR. If\n",
                "one argument evaluates to TRUE and one argument evaluates to FALSE, then this function will return TRUE,\n",
                "otherwise it will return FALSE. Try out the xor() function by typing: xor(5 == 6, !FALSE)\n"
            ]
        },
        {
            "cell_type": "code",
            "execution_count": null,
            "metadata": {},
            "outputs": [],
            "source": [
                "xor(5 == 6, !FALSE)\n",
                "\n"
            ]
        },
        {
            "cell_type": "markdown",
            "metadata": {},
            "source": [
                "5 == 6 evaluates to FALSE, !FALSE evaluates to TRUE, so xor(FALSE, TRUE) evaluates to TRUE. \n",
                "On the other hand if the first argument was changed to 5 == 5 and the second argument was unchanged\n",
                "then both arguments would have been TRUE, so xor(TRUE, TRUE) would have evaluated to FALSE.\n",
                "\n",
                "For xor() to evaluate to TRUE, one argument must be TRUE and one must be FALSE.\n",
                "\n",
                "1: xor(4 >= 9, 8 != 8.0)\n",
                "\n",
                "2: xor(identical(xor, 'xor'), 7 == 7.0)\n",
                "\n",
                "3: xor(!!TRUE, !!FALSE)\n",
                "\n",
                "4: xor(!isTRUE(TRUE), 6 > -1)\n",
                "\n",
                "Selection: 1\n"
            ]
        },
        {
            "cell_type": "code",
            "execution_count": null,
            "metadata": {},
            "outputs": [],
            "source": [
                "xor(4 >= 9, 8 != 8.0)\n",
                "\n"
            ]
        },
        {
            "cell_type": "markdown",
            "metadata": {},
            "source": [
                "Create this vector by typing: ints <- sample(10)\n",
                "\n"
            ]
        },
        {
            "cell_type": "code",
            "execution_count": null,
            "metadata": {},
            "outputs": [],
            "source": [
                "ints <- sample(10)\n",
                "\n"
            ]
        },
        {
            "cell_type": "markdown",
            "metadata": {},
            "source": [
                " Now simply display the contents of ints.\n",
                "\n"
            ]
        },
        {
            "cell_type": "code",
            "execution_count": null,
            "metadata": {},
            "outputs": [],
            "source": [
                " ints\n",
                "\n"
            ]
        },
        {
            "cell_type": "markdown",
            "metadata": {},
            "source": [
                "The vector `ints` is a random sampling of integers from 1 to 10 without replacement. Let's say we wanted\n",
                "to ask some logical questions about contents of ints. If we type ints > 5, we will get a logical vector \n",
                "corresponding to whether each element of ints is greater than 5. Try typing: ints > 5\n"
            ]
        },
        {
            "cell_type": "code",
            "execution_count": null,
            "metadata": {},
            "outputs": [],
            "source": [
                "ints\n",
                "ints > 5\n"
            ]
        },
        {
            "cell_type": "markdown",
            "metadata": {},
            "source": [
                "We can use the resulting logical vector to ask other questions about ints. The which() function takes a \n",
                "logical vector as an argument and returns the indices of the vector that are TRUE. \n",
                "For example which(c(TRUE, FALSE, TRUE)) would return the vector c(1, 3).\n",
                "\n",
                "Use the which() function to find the indices of ints that are greater than 7.\n"
            ]
        },
        {
            "cell_type": "code",
            "execution_count": null,
            "metadata": {},
            "outputs": [],
            "source": [
                " ints\n",
                " which(ints > 7)\n"
            ]
        },
        {
            "cell_type": "markdown",
            "metadata": {},
            "source": [
                "Which of the following commands would produce the indices of the elements in ints \n",
                "that are less than or equal to 2?\n",
                "\n",
                "1: which(ints <= 2)\n",
                "\n",
                "2: ints < 2\n",
                "\n",
                "3: which(ints < 2)\n",
                "\n",
                "4: ints <= 2\n",
                "\n",
                "Selection: 1\n",
                "\n",
                "Like the which() function, the functions any() and all() take logical vectors as their argument. \n",
                "The any() function will element in the logical vector is TRUE.\n",
                "\n",
                "Use the any() function to see if any of the elements of ints are less than zero.\n"
            ]
        },
        {
            "cell_type": "code",
            "execution_count": null,
            "metadata": {},
            "outputs": [],
            "source": [
                "ints\n",
                "which(ints <= 2)\n"
            ]
        },
        {
            "cell_type": "markdown",
            "metadata": {},
            "source": "\n"
        },
        {
            "cell_type": "code",
            "execution_count": null,
            "metadata": {},
            "outputs": [],
            "source": [
                "ints\n",
                "any(ints<0)\n"
            ]
        },
        {
            "cell_type": "markdown",
            "metadata": {},
            "source": [
                "Use the all() function to see if all of the elements of ints are greater than zero.\n",
                "\n"
            ]
        },
        {
            "cell_type": "code",
            "execution_count": null,
            "metadata": {},
            "outputs": [],
            "source": [
                "ints\n",
                "all(ints > 0)\n"
            ]
        },
        {
            "cell_type": "markdown",
            "metadata": {},
            "source": [
                " Which of the following evaluates to TRUE?\n",
                "\n",
                "1: all(ints == 10)\n",
                "\n",
                "2: any(ints == 10)\n",
                "\n",
                "3: all(c(TRUE, FALSE, TRUE))\n",
                "\n",
                "4: any(ints == 2.5)\n",
                "\n",
                "Selection: 2\n"
            ]
        },
        {
            "cell_type": "code",
            "execution_count": null,
            "metadata": {},
            "outputs": [],
            "source": [
                "ints\n",
                "any(ints == 10)\n"
            ]
        },
        {
            "cell_type": "markdown",
            "metadata": {},
            "source": "\n"
        }
    ],
    "metadata": {
        "anaconda-cloud": "",
        "kernelspec": {
            "display_name": "R",
            "langauge": "R",
            "name": "ir"
        },
        "language_info": {
            "codemirror_mode": "r",
            "file_extension": ".r",
            "mimetype": "text/x-r-source",
            "name": "R",
            "pygments_lexer": "r",
            "version": "3.4.1"
        }
    },
    "nbformat": 4,
    "nbformat_minor": 1
}
