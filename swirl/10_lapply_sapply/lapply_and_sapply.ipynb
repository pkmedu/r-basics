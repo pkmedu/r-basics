{
    "cells": [
        {
            "cell_type": "markdown",
            "metadata": {},
            "source": "\n"
        },
        {
            "cell_type": "code",
            "execution_count": null,
            "metadata": {},
            "outputs": [],
            "source": [
                "options(knitr.duplicate.label = \"allow\")\n",
                "\n"
            ]
        },
        {
            "cell_type": "markdown",
            "metadata": {},
            "source": "\n"
        },
        {
            "cell_type": "code",
            "execution_count": null,
            "metadata": {},
            "outputs": [],
            "source": [
                "knitr::opts_chunk$set(echo = TRUE)\n",
                "\n"
            ]
        },
        {
            "cell_type": "markdown",
            "metadata": {},
            "source": [
                "## 10. lapply and sapply\n",
                "### Author: swirl Team\n",
                "\n",
                "#### Acknowledgements: R Language Concepts and code questions are used here from the swirl package.\n",
                "https://www.r-project.org/nosvn/pandoc/swirl.html\n",
                "\n",
                "In this lesson, you'll learn how to use lapply() and sapply(), the two most important members of R's *apply family of\n",
                "functions, also known as loop functions.\n",
                "\n",
                "These powerful functions, along with their close relatives (vapply() and tapply(), among others) offer a concise and\n",
                "convenient means of implementing the Split-Apply-Combine strategy for data analysis.\n",
                "\n",
                "Each of the *apply functions will SPLIT up some data into smaller pieces, APPLY a function to each piece, then COMBINE\n",
                "the results. A more detailed discussion of this strategy is found in Hadley Wickham's Journal of Statistical Software\n",
                "paper titled 'The Split-Apply-Combine Strategy for Data Analysis'.\n",
                "\n",
                "Throughout this lesson, we'll use the Flags dataset from the UCI Machine Learning Repository. This dataset contains\n",
                "details of various nations and their flags. More information may be found here:\n",
                "http://archive.ics.uci.edu/ml/datasets/Flags\n",
                "\n",
                "Let's jump right in so you can get a feel for how these special functions work!\n",
                "\n",
                "I've stored the dataset in a variable called flags. Type head(flags) to preview the first six lines (i.e. the 'head') of\n",
                "the \n",
                "\n",
                "\n",
                "#{r setup, include=FALSE, echo=FALSE}\n"
            ]
        },
        {
            "cell_type": "code",
            "execution_count": null,
            "metadata": {},
            "outputs": [],
            "source": [
                "require(\"knitr\")\n",
                "opts_knit$set(root.dir = \"C:/r-basics/Data\")\n"
            ]
        },
        {
            "cell_type": "markdown",
            "metadata": {},
            "source": "\n"
        },
        {
            "cell_type": "code",
            "execution_count": null,
            "metadata": {},
            "outputs": [],
            "source": [
                "getwd()\n",
                "load('flags.Rdata')\n",
                "flags <- flags\n"
            ]
        },
        {
            "cell_type": "markdown",
            "metadata": {},
            "source": "\n"
        },
        {
            "cell_type": "code",
            "execution_count": null,
            "metadata": {},
            "outputs": [],
            "source": [
                "library(tidyverse)\n",
                "flags %>% dplyr:::select(name, landmass, zone) %>% \n",
                "          dplyr:::filter(row_number() %in% c(1,2,3,4,5,6,7))\n"
            ]
        },
        {
            "cell_type": "markdown",
            "metadata": {},
            "source": "\n"
        },
        {
            "cell_type": "code",
            "execution_count": null,
            "metadata": {},
            "outputs": [],
            "source": [
                "dim(flags)\n",
                "\n"
            ]
        },
        {
            "cell_type": "markdown",
            "metadata": {},
            "source": [
                "This tells us that there are 194 rows, or observations, and 30 columns, or variables. Each observation is a country and\n",
                "each variable describes some characteristic of that country or its flag. To open a more complete description of the\n",
                "dataset in a separate text file, type viewinfo() when you are back at the prompt .\n",
                "\n",
                "As with any dataset, we'd like to know in what format the variables have been stored. In other words, what is the 'class'\n",
                "of each variable? What happens if we do class(flags)? Try it out.\n"
            ]
        },
        {
            "cell_type": "code",
            "execution_count": null,
            "metadata": {},
            "outputs": [],
            "source": [
                "class(flags)\n",
                "\n"
            ]
        },
        {
            "cell_type": "markdown",
            "metadata": {},
            "source": [
                "That just tells us that the entire dataset is stored as a 'data.frame', which doesn't answer our question. What we really\n",
                "need is to call the class() function on each individual column. While we could do this manually (i.e. one column at a\n",
                "time) it's much faster if we can automate the process. Sounds like a loop!\n",
                "\n",
                "The lapply() function takes a list as input, applies a function to each element of the list, then returns a list of the\n",
                "same length as the original one. Since a data frame is really just a list of vectors (you can see this with\n",
                "as.list(flags)), we can use lapply() to apply the class() function to each column of the flags dataset. Let's see it in\n",
                "action!\n",
                "\n",
                "Type cls_list <- lapply(flags, class) to apply the class() function to each column of the flags dataset and store the\n",
                "result in a variable called cls_list. Note that you just supply the name of the function you want to apply (i.e. class),\n",
                "without the usual parentheses after it.\n"
            ]
        },
        {
            "cell_type": "code",
            "execution_count": null,
            "metadata": {},
            "outputs": [],
            "source": [
                "cls_list <- lapply(flags, class) \n",
                "\n"
            ]
        },
        {
            "cell_type": "markdown",
            "metadata": {},
            "source": [
                "Type cls_list to view the result.\n",
                "\n"
            ]
        },
        {
            "cell_type": "code",
            "execution_count": null,
            "metadata": {},
            "outputs": [],
            "source": [
                "cls_list\n",
                "\n"
            ]
        },
        {
            "cell_type": "markdown",
            "metadata": {},
            "source": [
                "The 'l' in 'lapply' stands for 'list'. Type class(cls_list) to confirm that lapply() returned a list.\n",
                "\n"
            ]
        },
        {
            "cell_type": "code",
            "execution_count": null,
            "metadata": {},
            "outputs": [],
            "source": [
                "class(cls_list)\n",
                "\n"
            ]
        },
        {
            "cell_type": "markdown",
            "metadata": {},
            "source": [
                "\t\t\t\t\t\t\t\t\t\t\t\t\t\t\t\t\t\t   \n",
                "As expected, we got a list of length 30 -- one element for each variable/column. The output would be considerably more\n",
                "compact if we could represent it as a vector instead of a list.\n",
                "\n",
                "You may remember from a previous lesson that lists are most helpful for storing multiple classes of data. In this case,\n",
                "since every element of the list returned by lapply() is a character vector of length one (i.e. \"integer\" and \"vector\"),\n",
                "cls_list can be simplified to a character vector. To do this manually, type as.character(cls_list).\n"
            ]
        },
        {
            "cell_type": "code",
            "execution_count": null,
            "metadata": {},
            "outputs": [],
            "source": [
                "as.character(cls_list)\n",
                "\n"
            ]
        },
        {
            "cell_type": "markdown",
            "metadata": {},
            "source": [
                "sapply() allows you to automate this process by calling lapply() behind the scenes, but then attempting to simplify\n",
                "(hence the 's' in 'sapply') the result for you. Use sapply() the same way you used lapply() to get the class of each\n",
                "column of the flags dataset and store the result in cls_vect. If you need help, type ?sapply to bring up the\n",
                "documentation.\n"
            ]
        },
        {
            "cell_type": "code",
            "execution_count": null,
            "metadata": {},
            "outputs": [],
            "source": [
                "?sapply\n",
                "\n"
            ]
        },
        {
            "cell_type": "markdown",
            "metadata": {},
            "source": "\n"
        },
        {
            "cell_type": "code",
            "execution_count": null,
            "metadata": {},
            "outputs": [],
            "source": [
                "cls_vect <- sapply(flags, class)\n",
                "\n"
            ]
        },
        {
            "cell_type": "markdown",
            "metadata": {},
            "source": "\n"
        },
        {
            "cell_type": "code",
            "execution_count": null,
            "metadata": {},
            "outputs": [],
            "source": [
                "class(cls_vect)\n",
                "\n"
            ]
        },
        {
            "cell_type": "markdown",
            "metadata": {},
            "source": [
                "In general, if the result is a list where every element is of length one, then sapply() returns a vector. If the result\n",
                "is a list where every element is a vector of the same length (              1), sapply() returns a matrix. If sapply() can't figure\n",
                "things out, then it just returns a list, no different from what lapply() would give you.\n",
                "\n",
                "Let's practice using lapply() and sapply() some more!\n",
                "\n",
                "Columns 11 through 17 of our dataset are indicator variables, each representing a different color. The value of the\n",
                "indicator variable is 1 if the color is present in a country's flag and 0 otherwise.\n",
                "\n",
                "Therefore, if we want to know the total number of countries (in our dataset) with, for example, the color orange on their\n",
                "flag, we can just add up all of the 1s and 0s in the 'orange' column. Try sum(flags$orange) to see this.\n"
            ]
        },
        {
            "cell_type": "code",
            "execution_count": null,
            "metadata": {},
            "outputs": [],
            "source": [
                "sum(flags$orange)\n",
                "\n"
            ]
        },
        {
            "cell_type": "markdown",
            "metadata": {},
            "source": [
                "Now we want to repeat this operation for each of the colors recorded in the dataset.\n",
                "\n",
                "First, use flag_colors <- flags[, 11:17] to extract the columns containing the color data and store them in a new data\n",
                "frame called flag_colors. (Note the comma before 11:17. This subsetting command tells R that we want all rows, but only\n",
                "columns 11 through 17.)\n"
            ]
        },
        {
            "cell_type": "code",
            "execution_count": null,
            "metadata": {},
            "outputs": [],
            "source": [
                "flag_colors <- flags[, 11:17]\n",
                "\n"
            ]
        },
        {
            "cell_type": "markdown",
            "metadata": {},
            "source": "\n"
        },
        {
            "cell_type": "code",
            "execution_count": null,
            "metadata": {},
            "outputs": [],
            "source": [
                "head(flag_colors)\n",
                "\n"
            ]
        },
        {
            "cell_type": "markdown",
            "metadata": {},
            "source": [
                "To get a list containing the sum of each column of flag_colors, call the lapply() function with two arguments. The first\n",
                "argument is the object over which we are looping (i.e. flag_colors) and the second argument is the name of the function\n",
                "we wish to apply to each column (i.e. sum). Remember that the second argument is just the name of the function with no\n",
                "parentheses, etc.\n"
            ]
        },
        {
            "cell_type": "code",
            "execution_count": null,
            "metadata": {},
            "outputs": [],
            "source": [
                "lapply(flag_colors, sum)\n",
                "\n"
            ]
        },
        {
            "cell_type": "markdown",
            "metadata": {},
            "source": [
                "This tells us that of the 194 flags in our dataset, 153 contain the color red, 91 contain green, 99 contain blue, and so\n",
                "on.\n",
                "\n",
                "The result is a list, since lapply() always returns a list. Each element of this list is of length one, so the result can\n",
                "be simplified to a vector by calling sapply() instead of lapply(). Try it now.\n"
            ]
        },
        {
            "cell_type": "code",
            "execution_count": null,
            "metadata": {},
            "outputs": [],
            "source": [
                "sapply(flag_colors, sum)\n",
                "\n"
            ]
        },
        {
            "cell_type": "markdown",
            "metadata": {},
            "source": [
                "Perhaps it's more informative to find the proportion of flags (out of 194) containing each color. Since each column is\n",
                "just a bunch of 1s and 0s, the arithmetic mean of each column will give us the proportion of 1s. (If it's not clear why,\n",
                "think of a simpler situation where you have three 1s and two 0s -- (1 + 1 + 1 + 0 + 0)/5 = 3/5 = 0.6).\n",
                "\n",
                "Use sapply() to apply the mean() function to each column of flag_colors. Remember that the second argument to sapply()\n",
                "should just specify the name of the function (i.e. mean) that you want to apply.\n"
            ]
        },
        {
            "cell_type": "code",
            "execution_count": null,
            "metadata": {},
            "outputs": [],
            "source": [
                "sapply(flag_colors, mean)\n",
                "\n"
            ]
        },
        {
            "cell_type": "markdown",
            "metadata": {},
            "source": [
                "In the examples we've looked at so far, sapply() has been able to simplify the result to vector. That's because each\n",
                "element of the list returned by lapply() was a vector of length one. Recall that sapply() instead returns a matrix when\n",
                "each element of the list returned by lapply() is a vector of the same length (              1).\n",
                "\n",
                "To illustrate this, let's extract columns 19 through 23 from the flags dataset and store the result in a new data frame\n",
                "called flag_shapes. flag_shapes <- flags[, 19:23] will do it.\n",
                "\n",
                "flag_shapes <- flags[, 19:23] will save columns 19 through 23 in a new variable.\n"
            ]
        },
        {
            "cell_type": "code",
            "execution_count": null,
            "metadata": {},
            "outputs": [],
            "source": [
                "flag_shapes <- flags[, 19:23]\n",
                "\n"
            ]
        },
        {
            "cell_type": "markdown",
            "metadata": {},
            "source": [
                "Each of these columns (i.e. variables) represents the number of times a particular shape or design appears on a country's\n",
                "flag. We are interested in the minimum and maximum number of times each shape or design appears.\n",
                "\n",
                "The range() function returns the minimum and maximum of its first argument, which should be a numeric vector. Use\n",
                "lapply() to apply the range function to each column of flag_shapes. Don't worry about storing the result in a new\n",
                "variable. By now, we know that lapply() always returns a list.\n"
            ]
        },
        {
            "cell_type": "code",
            "execution_count": null,
            "metadata": {},
            "outputs": [],
            "source": [
                "lapply(flag_shapes, range)\n",
                "\n"
            ]
        },
        {
            "cell_type": "markdown",
            "metadata": {},
            "source": [
                "Do the same operation, but using sapply() and store the result in a variable called shape_mat.\n",
                "\n",
                "shape_mat <- sapply(flag_shapes, range) will apply the range() function to each column of flag_shapes and store the\n",
                "result in shape_mat.\n"
            ]
        },
        {
            "cell_type": "code",
            "execution_count": null,
            "metadata": {},
            "outputs": [],
            "source": [
                "shape_mat <- sapply(flag_shapes, range)\n",
                "\n"
            ]
        },
        {
            "cell_type": "markdown",
            "metadata": {},
            "source": [
                "Each column of shape_mat gives the minimum (row 1) and maximum (row 2) number of times its respective shape appears in\n",
                "different flags.\n",
                "\n",
                "Use the class() function to confirm that shape_mat is a matrix.\n"
            ]
        },
        {
            "cell_type": "code",
            "execution_count": null,
            "metadata": {},
            "outputs": [],
            "source": [
                "is.matrix(shape_mat)\n",
                "\n"
            ]
        },
        {
            "cell_type": "markdown",
            "metadata": {},
            "source": [
                "As we've seen, sapply() always attempts to simplify the result given by lapply(). It has been successful in doing so for\n",
                "each of the examples we've looked at so far. Let's look at an example where sapply() can't figure out how to simplify the\n",
                "result and thus returns a list, no different from lapply().\n",
                "\n",
                "When given a vector, the unique() function returns a vector with all duplicate elements removed. In other words, unique()\n",
                "returns a vector of only the 'unique' elements. To see how it works, try unique(c(3, 4, 5, 5, 5, 6, 6)).\n"
            ]
        },
        {
            "cell_type": "code",
            "execution_count": null,
            "metadata": {},
            "outputs": [],
            "source": [
                "unique(c(3, 4, 5, 5, 5, 6, 6))\n",
                "\n"
            ]
        },
        {
            "cell_type": "markdown",
            "metadata": {},
            "source": [
                "We want to know the unique values for each variable in the flags dataset. To accomplish this, use lapply() to apply the\n",
                "unique() function to each column in the flags dataset, storing the result in a variable called unique_vals.\n"
            ]
        },
        {
            "cell_type": "code",
            "execution_count": null,
            "metadata": {},
            "outputs": [],
            "source": [
                "unique_vals <- lapply(flags, unique)\n",
                "\n"
            ]
        },
        {
            "cell_type": "markdown",
            "metadata": {},
            "source": [
                "Print the value of unique_vals to the console.\n",
                "\n"
            ]
        },
        {
            "cell_type": "code",
            "execution_count": null,
            "metadata": {},
            "outputs": [],
            "source": [
                "unique_vals\n",
                "\n"
            ]
        },
        {
            "cell_type": "markdown",
            "metadata": {},
            "source": [
                "Since unique_vals is a list, you can use what you've learned to determine the length of each element of unique_vals (i.e.\n",
                "the number of unique values for each variable). Simplify the result, if possible. Hint: Apply the length() function to\n",
                "each element of unique_vals.\n"
            ]
        },
        {
            "cell_type": "code",
            "execution_count": null,
            "metadata": {},
            "outputs": [],
            "source": [
                "sapply(unique_vals, length)\n",
                "\n"
            ]
        },
        {
            "cell_type": "markdown",
            "metadata": {},
            "source": [
                "The fact that the elements of the unique_vals list are all vectors of *different* length poses a problem for sapply(),\n",
                "since there's no obvious way of simplifying the result.\n",
                "Use sapply() to apply the unique() function to each column of the flags dataset to see that you get the same unsimplified\n",
                "list that you got from lapply().\n"
            ]
        },
        {
            "cell_type": "code",
            "execution_count": null,
            "metadata": {},
            "outputs": [],
            "source": [
                "sapply(flags, unique)\n",
                "\n"
            ]
        },
        {
            "cell_type": "markdown",
            "metadata": {},
            "source": [
                "Occasionally, you may need to apply a function that is not yet defined, thus requiring you to write your own. Writing\n",
                "functions in R is beyond the scope of this lesson, but let's look at a quick example of how you might do so in the\n",
                "context of loop functions.\n",
                "\n",
                "Pretend you are interested in only the second item from each element of the unique_vals list that you just created. Since\n",
                "each element of the unique_vals list is a vector and we're not aware of any built-in function in R that returns the\n",
                "second element of a vector, we will construct our own function.\n",
                "\n",
                "lapply(unique_vals, function(elem) elem[2]) will return a list containing the second item from each element of the\n",
                "unique_vals list. Note that our function takes one argument, elem, which is just a 'dummy variable' that takes on the\n",
                "value of each element of unique_vals, in turn.\n"
            ]
        },
        {
            "cell_type": "code",
            "execution_count": null,
            "metadata": {},
            "outputs": [],
            "source": [
                "lapply(unique_vals, function(elem) elem[2])\n",
                "\n"
            ]
        },
        {
            "cell_type": "markdown",
            "metadata": {},
            "source": [
                "... Our function has no name and disappears as soon as lapply() is done using it. So-called 'anonymous\n",
                "functions' can be very useful when one of R's built-in functions isn't an option.\n",
                "\n",
                "In this lesson, you learned how to use the powerful lapply() and sapply() functions to apply an operation over the\n",
                "elements of a list. In the next lesson, we'll take a look at some close relatives of lapply() and sapply().\n"
            ]
        }
    ],
    "metadata": {
        "anaconda-cloud": "",
        "kernelspec": {
            "display_name": "R",
            "langauge": "R",
            "name": "ir"
        },
        "language_info": {
            "codemirror_mode": "r",
            "file_extension": ".r",
            "mimetype": "text/x-r-source",
            "name": "R",
            "pygments_lexer": "r",
            "version": "3.4.1"
        }
    },
    "nbformat": 4,
    "nbformat_minor": 1
}
