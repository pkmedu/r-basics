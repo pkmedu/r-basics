{
    "cells": [
        {
            "cell_type": "markdown",
            "metadata": {},
            "source": "\n"
        },
        {
            "cell_type": "code",
            "execution_count": null,
            "metadata": {},
            "outputs": [],
            "source": [
                "knitr::opts_chunk$set(echo = TRUE)\n",
                "\n"
            ]
        },
        {
            "cell_type": "markdown",
            "metadata": {},
            "source": [
                "## 2. Workspace and Files\n",
                "\n",
                "### Author: swirl Team\n",
                "\n",
                "#### Acknowledgements: R Language Concepts and code questions are used here from the swirl package.\n",
                "https://www.r-project.org/nosvn/pandoc/swirl.html\n",
                "\n",
                "#### In this lesson, you'll learn how to examine your local workspace in R and begin\n",
                "#### to explore the relationship between your workspace and the file system of your machine.\n",
                "   \n",
                "Because different operating systems have different conventions with regards to\n",
                "things like file paths, the outputs of these commands may vary across machines.\n",
                "                                                                            \n",
                "However it's important to note that R provides a common API (a common set of\n",
                "commands) for interacting with files, that way your code will work across\n",
                "different kinds of computers.\n",
                "                                                                          \n",
                "Let's jump right in so you can get a feel for how these special functions work!\n",
                "Determine which directory your R session is using as its current working\n",
                "directory using getwd().\n"
            ]
        },
        {
            "cell_type": "code",
            "execution_count": null,
            "metadata": {},
            "outputs": [],
            "source": [
                "getwd()\n",
                "\n"
            ]
        },
        {
            "cell_type": "markdown",
            "metadata": {},
            "source": [
                "List all the objects in your local workspace using ls().\n",
                "\n"
            ]
        },
        {
            "cell_type": "code",
            "execution_count": null,
            "metadata": {},
            "outputs": [],
            "source": [
                " ls()\n",
                "\n"
            ]
        },
        {
            "cell_type": "markdown",
            "metadata": {},
            "source": [
                "Some R commands are the same as their equivalents commands on Linux or on a Mac.\n",
                "Both Linux and Mac operating systems are based on an operating system called\n",
                "Unix. It's always a good idea to learn more about Unix!\n"
            ]
        },
        {
            "cell_type": "code",
            "execution_count": null,
            "metadata": {},
            "outputs": [],
            "source": [
                "x <- 9\n",
                "\n"
            ]
        },
        {
            "cell_type": "markdown",
            "metadata": {},
            "source": [
                "Now take a look at objects that are in your workspace using ls().\n",
                "\n"
            ]
        },
        {
            "cell_type": "code",
            "execution_count": null,
            "metadata": {},
            "outputs": [],
            "source": [
                " ls()\n",
                "\n"
            ]
        },
        {
            "cell_type": "markdown",
            "metadata": {},
            "source": "   List all the files in your working directory using list.files() or dir().\n"
        },
        {
            "cell_type": "code",
            "execution_count": null,
            "metadata": {},
            "outputs": [],
            "source": [
                "list.files()\n",
                "\n"
            ]
        },
        {
            "cell_type": "markdown",
            "metadata": {},
            "source": [
                "As we go through this lesson, you should be examining the help page for each new\n",
                "function. Check out the help page for list.files with the command ?list.files.\n"
            ]
        },
        {
            "cell_type": "code",
            "execution_count": null,
            "metadata": {},
            "outputs": [],
            "source": [
                "list.files()\n",
                "\n"
            ]
        },
        {
            "cell_type": "markdown",
            "metadata": {},
            "source": [
                "One of the most helpful parts of any R help file is the See Also section. Read\n",
                "that section for list.files. Some of these functions may be used in later\n",
                "portions of this lesson.   \n",
                "\n",
                "Using the args() function on a function name is also a handy way to see what\n",
                "arguments a function can take.\n"
            ]
        },
        {
            "cell_type": "code",
            "execution_count": null,
            "metadata": {},
            "outputs": [],
            "source": [
                " args(list.files)\n",
                "\n"
            ]
        },
        {
            "cell_type": "markdown",
            "metadata": {},
            "source": [
                "Use the args() function to determine the arguments to list.files().\n",
                "\n"
            ]
        },
        {
            "cell_type": "code",
            "execution_count": null,
            "metadata": {},
            "outputs": [],
            "source": [
                " args(list.files)\n",
                "\n"
            ]
        },
        {
            "cell_type": "markdown",
            "metadata": {},
            "source": [
                "Assign the value of the current working directory to a variable called \n",
                "old.dir <- getwd()\n"
            ]
        },
        {
            "cell_type": "code",
            "execution_count": null,
            "metadata": {},
            "outputs": [],
            "source": [
                "old.dir <- getwd()\n",
                "\n"
            ]
        },
        {
            "cell_type": "markdown",
            "metadata": {},
            "source": [
                "We will use old.dir at the end of this lesson to move back to the place that we\n",
                "started. A lot of query functions like getwd() have the useful property that they return the answer to the question as a result of the function.\n",
                "  \n",
                "Use dir.create() to create a directory in the current working directory called \"testdir\".\n"
            ]
        },
        {
            "cell_type": "code",
            "execution_count": null,
            "metadata": {},
            "outputs": [],
            "source": [
                "dir.create(\"testdir\")\n",
                "\n"
            ]
        },
        {
            "cell_type": "markdown",
            "metadata": {},
            "source": [
                "We will do all our work in this new directory and then delete it after we are\n",
                "done. This is the R analog to \"Take only pictures, leave only footprints.\"\n",
                "                              \n",
                "Set your working directory to \"testdir\" with the setwd() command.\n"
            ]
        },
        {
            "cell_type": "code",
            "execution_count": null,
            "metadata": {},
            "outputs": [],
            "source": [
                "setwd(\"testdir\")\n",
                "\n"
            ]
        },
        {
            "cell_type": "markdown",
            "metadata": {},
            "source": [
                "                                 \n",
                "In general, you will want your working directory to be someplace sensible,\n",
                "perhaps created for the specific project that you are working on. In fact,\n",
                "organizing your work in R packages using RStudio is an excellent option. Check\n",
                "out RStudio at http://www.rstudio.com/\n",
                "                                       \n",
                "Create a file in your working directory called \"mytest.R\" using the file.create() function.\n"
            ]
        },
        {
            "cell_type": "code",
            "execution_count": null,
            "metadata": {},
            "outputs": [],
            "source": [
                "file.create(\"mytest.R\")\n",
                "\n"
            ]
        },
        {
            "cell_type": "markdown",
            "metadata": {},
            "source": [
                "This should be the only file in this newly created directory. Let's check this by  listing all the files in the current directory.\n",
                "\n"
            ]
        },
        {
            "cell_type": "code",
            "execution_count": null,
            "metadata": {},
            "outputs": [],
            "source": [
                " list.files()\n",
                "\n"
            ]
        },
        {
            "cell_type": "markdown",
            "metadata": {},
            "source": [
                "Check to see if \"mytest.R\" exists in the working directory using the file.exists() function.\n",
                "\n"
            ]
        },
        {
            "cell_type": "code",
            "execution_count": null,
            "metadata": {},
            "outputs": [],
            "source": [
                "file.exists(\"mytest.R\")\n",
                "\n"
            ]
        },
        {
            "cell_type": "markdown",
            "metadata": {},
            "source": [
                "These sorts of functions are excessive for interactive use. But, if you are\n",
                "running a program that loops through a series of files and does some processing\n",
                "on each one, you will want to check to see that each exists before you try to\n",
                "process it.\n",
                "                                           \n",
                "Access information about the file \"mytest.R\" by using file.info().\n"
            ]
        },
        {
            "cell_type": "code",
            "execution_count": null,
            "metadata": {},
            "outputs": [],
            "source": [
                "file.info(\"mytest.R\")\n",
                "\n"
            ]
        },
        {
            "cell_type": "markdown",
            "metadata": {},
            "source": [
                "You can use the $ operator --- e.g., file.info(\"mytest.R\")$mode --- to grab\n",
                "specific items.\n"
            ]
        },
        {
            "cell_type": "code",
            "execution_count": null,
            "metadata": {},
            "outputs": [],
            "source": [
                " file.info(\"mytest.R\")$mode\n",
                "\n"
            ]
        },
        {
            "cell_type": "markdown",
            "metadata": {},
            "source": [
                "Change the name of the file \"mytest.R\" to \"mytest2.R\" by using file.rename().\n",
                "\n"
            ]
        },
        {
            "cell_type": "code",
            "execution_count": null,
            "metadata": {},
            "outputs": [],
            "source": [
                "file.rename(\"mytest.R\", \"mytest2.R\")\n",
                "\n"
            ]
        },
        {
            "cell_type": "markdown",
            "metadata": {},
            "source": [
                "Your operating system will provide simpler tools for these sorts of tasks, but\n",
                "having the ability to manipulate files programatically is useful. You might now\n",
                "try to delete mytest.R using file.remove('mytest.R'), but that won't work since mytest.R no longer exists. You have already renamed it.\n",
                "                                         \n",
                "Make a copy of \"mytest2.R\" called \"mytest3.R\" using file.copy().\n"
            ]
        },
        {
            "cell_type": "code",
            "execution_count": null,
            "metadata": {},
            "outputs": [],
            "source": [
                " file.copy(\"mytest2.R\", \"mytest3.R\")\n",
                "\n"
            ]
        },
        {
            "cell_type": "markdown",
            "metadata": {},
            "source": [
                "You now have two files in the current directory. That may not seem very\n",
                "interesting. But what if you were working with dozens, or millions, of individual  files? In that case, being able to programatically act on many files would be absolutely necessary. Don't forget that you can, temporarily, leave the lesson by  typing play() and then return by typing nxt().\n",
                "                                                       \n",
                "Provide the relative path to the file \"mytest3.R\" by using file.path().\n"
            ]
        },
        {
            "cell_type": "code",
            "execution_count": null,
            "metadata": {},
            "outputs": [],
            "source": [
                "file.path(\"mytest3.R\")                                                   \n",
                "\n"
            ]
        },
        {
            "cell_type": "markdown",
            "metadata": {},
            "source": [
                "You can use file.path to construct file and directory paths that are independent\n",
                "of the operating system your R code is running on. Pass 'folder1' and 'folder2'\n",
                "as arguments to file.path to make a platform-independent pathname.\n"
            ]
        },
        {
            "cell_type": "code",
            "execution_count": null,
            "metadata": {},
            "outputs": [],
            "source": [
                "file.path(\"folder1\", \"folder2\")\n",
                "\n"
            ]
        },
        {
            "cell_type": "markdown",
            "metadata": {},
            "source": [
                "Take a look at the documentation for dir.create by entering ?dir.create . Notice\n",
                "the 'recursive' argument. In order to create nested directories, 'recursive' must be set to TRUE.?dir.create will show you the docs.\n"
            ]
        },
        {
            "cell_type": "code",
            "execution_count": null,
            "metadata": {},
            "outputs": [],
            "source": [
                "?dir.create\n",
                "\n"
            ]
        },
        {
            "cell_type": "markdown",
            "metadata": {},
            "source": [
                "Create a directory in the current working directory called \"testdir2\" and a\n",
                "subdirectory for it called \"testdir3\", all in one command by using dir.create()\n",
                "and file.path().\n"
            ]
        },
        {
            "cell_type": "code",
            "execution_count": null,
            "metadata": {},
            "outputs": [],
            "source": [
                "dir.create(file.path(\"testdir2\", \"testdir3\"), recursive=TRUE)\n",
                "\n"
            ]
        },
        {
            "cell_type": "markdown",
            "metadata": {},
            "source": "Go back to your original working directory using setwd(). (Recall that we created  the variable old.dir with the full path for the orginal working directory at the  start of these questions.)\n"
        },
        {
            "cell_type": "code",
            "execution_count": null,
            "metadata": {},
            "outputs": [],
            "source": [
                "setwd(old.dir) \n",
                "\n"
            ]
        },
        {
            "cell_type": "markdown",
            "metadata": {},
            "source": [
                "It is often helpful to save the settings that you had before you began an\n",
                "analysis and then go back to them at the end. This trick is often used within\n",
                "functions; you save, say, the par() settings that you started with, mess around a bunch, and then set them back to the original values at the end. This isn't the  same as what we have done here, but it seems similar enough to mention.\n",
                "                                                               \n",
                "After you finish this lesson delete the 'testdir' directory that you just left\n",
                "(and everything in it)\n",
                "                                                                  \n",
                "Take nothing but results. Leave nothing but assumptions. That sounds like 'Take nothing but pictures. Leave nothing but footprints.' But it makes no sense!  Surely our readers can come up with a better motto . . .\n",
                "                                                                   \n",
                "In this lesson, you learned how to examine your R workspace and work with the\n",
                "file system of your machine from within R. \n",
                "                                                                        \n"
            ]
        }
    ],
    "metadata": {
        "anaconda-cloud": "",
        "kernelspec": {
            "display_name": "R",
            "langauge": "R",
            "name": "ir"
        },
        "language_info": {
            "codemirror_mode": "r",
            "file_extension": ".r",
            "mimetype": "text/x-r-source",
            "name": "R",
            "pygments_lexer": "r",
            "version": "3.4.1"
        }
    },
    "nbformat": 4,
    "nbformat_minor": 1
}
