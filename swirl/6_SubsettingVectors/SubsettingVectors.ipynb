{
    "cells": [
        {
            "cell_type": "markdown",
            "metadata": {},
            "source": "\n"
        },
        {
            "cell_type": "code",
            "execution_count": null,
            "metadata": {},
            "outputs": [],
            "source": [
                "knitr::opts_chunk$set(echo = TRUE)\n",
                "\n"
            ]
        },
        {
            "cell_type": "markdown",
            "metadata": {},
            "source": [
                "\n",
                "\n"
            ]
        },
        {
            "cell_type": "code",
            "execution_count": null,
            "metadata": {},
            "outputs": [],
            "source": [
                "  library(swirl)\n",
                "\n"
            ]
        },
        {
            "cell_type": "markdown",
            "metadata": {},
            "source": [
                "   \n",
                "## 6. Subsetting Vectors\n",
                "    \n",
                "    Type ls() to see a list of the variables in your workspace. Then, type rm(list=ls()) to clear your workspace.\n",
                "\n",
                "    Type swirl() when you are ready to begin.\n",
                "    \n"
            ]
        },
        {
            "cell_type": "code",
            "execution_count": null,
            "metadata": {},
            "outputs": [],
            "source": [
                "     rm(list=ls())\n",
                "\n"
            ]
        },
        {
            "cell_type": "markdown",
            "metadata": {},
            "source": [
                "### In this lesson, we'll see how to extract elements from a vector based on some conditions that we specify.\n",
                "                                                                                                                   \n",
                "    For example, we may only be interested in the first 20 elements of a vector, or only the elements \n",
                "    that are not NA, or only those that are positive or correspond to a specific variable of interest. \n",
                "    By the end of this lesson, you'll know how to handle each of these scenarios.\n",
                "                                                                                                                \n",
                "    I've created for you a vector called x that contains a random ordering of 20 numbers (from a standard normal\n",
                "    distribution) and 20 NAs. Type x now to see what it looks like.\n"
            ]
        },
        {
            "cell_type": "code",
            "execution_count": null,
            "metadata": {},
            "outputs": [],
            "source": [
                "x <- sample(c(1:20))\n",
                "\n"
            ]
        },
        {
            "cell_type": "markdown",
            "metadata": {},
            "source": [
                "    The way you tell R that you want to select some particular elements (i.e. a 'subset') from a vector\n",
                "    is by placing an 'index vector' in square brackets immediately following the name of the vector.\n",
                "                                                                                                          \n",
                "    For a simple example, try x[1:10] to view the first ten elements of x.\n"
            ]
        },
        {
            "cell_type": "code",
            "execution_count": null,
            "metadata": {},
            "outputs": [],
            "source": [
                "  x[1:10]\n",
                "\n"
            ]
        },
        {
            "cell_type": "markdown",
            "metadata": {},
            "source": [
                "    Index vectors come in four different flavors -- logical vectors, vectors of positive integers, \n",
                "    vectors of negative integers, and vectors of character strings -- each of which we'll cover in this lesson.\n",
                "                                                                                                    \n",
                "    Let's start by indexing with logical vectors. One common scenario when working with real-world\n",
                "    data is that we want to extract all elements of a vector that are not NA (i.e. missing data). \n",
                "    Recall that is.na(x) yields a vector of logical values the same length as x, with TRUEs\n",
                "    corresponding to NA values in x and FALSEs corresponding to non-NA values in x.\n",
                "                                                               \n",
                "    Remember that is.na(x) tells us where the NAs are in a vector.\n",
                "    So if we subset x based on that, what do you expect to\n",
                "    happen?\n",
                "\n",
                "    1: A vector of all NAs\n",
                "\n",
                "    2: A vector of TRUEs and FALSEs\n",
                "\n",
                "    3: A vector of length 0\n",
                "\n",
                "    4: A vector with no NAs\n",
                "\n",
                "    Selection: 1\n"
            ]
        },
        {
            "cell_type": "code",
            "execution_count": null,
            "metadata": {},
            "outputs": [],
            "source": [
                "     x[is.na(x)]\n",
                "\n"
            ]
        },
        {
            "cell_type": "markdown",
            "metadata": {},
            "source": [
                "    Recall that `!` gives us the negation of a logical expression, so !is.na(x) can be read as 'is not NA'. \n",
                "    Therefore, if we want to create a vector called y that contains all of the non-NA values from x, we can use \n",
                "    y <- x[!is.na(x)]. Give it a  try.\n",
                "    \n"
            ]
        },
        {
            "cell_type": "code",
            "execution_count": null,
            "metadata": {},
            "outputs": [],
            "source": [
                "     y <- x[!is.na(x)]\n",
                "\n"
            ]
        },
        {
            "cell_type": "markdown",
            "metadata": {},
            "source": [
                "                                                                                            \n",
                "    Print y to the console.\n"
            ]
        },
        {
            "cell_type": "code",
            "execution_count": null,
            "metadata": {},
            "outputs": [],
            "source": [
                "y\n",
                "\n"
            ]
        },
        {
            "cell_type": "markdown",
            "metadata": {},
            "source": [
                "  Now that we've isolated the non-missing values of x and put them in y, we can subset y as we please.\n",
                "  Recall that the expression y > 0 will give us a vector of logical values the same length as y, with TRUEs                corresponding to values of y that are greater than zero and FALSEs corresponding to values of y that \n",
                "  are less than or equal to zero.  What do you think y[y > 0] will give you?\n",
                "\n",
                "    1: A vector of all the negative elements of y\n",
                "    \n",
                "    2: A vector of all the positive elements of y\n",
                "    \n",
                "    3: A vector of length 0\n",
                "    \n",
                "    4: A vector of TRUEs and FALSEs\n",
                "    \n",
                "    5: A vector of all NAs\n",
                "\n",
                "    Selection: 2\n",
                "\n",
                "   Type y[y > 0] to see that we get all of the positive elements of y, which are also the positive elements of our          original vector x.\n",
                "\n",
                "   You might wonder why we didn't just start with x[x > 0] to isolate the positive elements of x.\n",
                "   Try that now to see why.\n",
                "    \n"
            ]
        },
        {
            "cell_type": "code",
            "execution_count": null,
            "metadata": {},
            "outputs": [],
            "source": [
                "     x[x>0]\n",
                "\n"
            ]
        },
        {
            "cell_type": "markdown",
            "metadata": {},
            "source": [
                "    Combining our knowledge of logical operators with our new knowledge of subsetting, \n",
                "    we could do this -- x[!is.na(x) & x > 0]. Try it out.\n",
                "    \n"
            ]
        },
        {
            "cell_type": "code",
            "execution_count": null,
            "metadata": {},
            "outputs": [],
            "source": [
                "x[!is.na(x) & x> 0]\n",
                "\n"
            ]
        },
        {
            "cell_type": "markdown",
            "metadata": {},
            "source": [
                "    In this case, we request only values of x that are both non-missing AND greater than zero.\n",
                "\n",
                "    I've already shown you how to subset just the first ten values of x using x[1:10]. \n",
                "    In this case, we're providing a vector of positive integers inside of the square brackets, \n",
                "    which tells R to return only the elements of x numbered 1 through 10.\n",
                "\n",
                "    Many programming languages use what's called 'zero-based indexing', which means that the first element\n",
                "    of a vector is considered element 0. R uses 'one-based indexing', which (you guessed it!) means\n",
                "    the first element of a vector is considered element 1.\n",
                "\n",
                "    Can you figure out how we'd subset the 3rd, 5th, and 7th elements of x?\n",
                "    Hint -- Use the c() function to specify the element numbers as a numeric vector.\n",
                "    \n"
            ]
        },
        {
            "cell_type": "code",
            "execution_count": null,
            "metadata": {},
            "outputs": [],
            "source": [
                "x[c(3, 5,7)]\n",
                "\n"
            ]
        },
        {
            "cell_type": "markdown",
            "metadata": {},
            "source": [
                "    It's important that when using integer vectors to subset our vector x, \n",
                "    we stick with the set of indexes {1, 2, ...,40} since x only has 40 elements.\n",
                "    What happens if we ask for the zeroth element of x (i.e. x[0])? Give it a try.\n",
                "    \n"
            ]
        },
        {
            "cell_type": "code",
            "execution_count": null,
            "metadata": {},
            "outputs": [],
            "source": [
                "x[0]\n",
                "\n"
            ]
        },
        {
            "cell_type": "markdown",
            "metadata": {},
            "source": [
                "    As you might expect, we get nothing useful. Unfortunately, R doesn't prevent us from doing this. \n",
                "    What if we ask for the 3000th element of x? Try it out.\n",
                "    \n"
            ]
        },
        {
            "cell_type": "code",
            "execution_count": null,
            "metadata": {},
            "outputs": [],
            "source": [
                "x[3000]\n",
                "\n"
            ]
        },
        {
            "cell_type": "markdown",
            "metadata": {},
            "source": [
                "    Again, nothing useful, but R doesn't prevent us from asking for it. This should be a cautionary tale. \n",
                "    You should lways  make sure that what you are asking for is within the bounds of the vector you're working with.\n",
                "\n",
                "    What if we're interested in all elements of x EXCEPT the 2nd and 10th? It would be pretty tedious to construct a         vector containing all numbers 1 through 40 EXCEPT 2 and 10.\n",
                "\n",
                "    Luckily, R accepts negative integer indexes. Whereas x[c(2, 10)] gives us ONLY the 2nd and 10th elements of x,           x[c(-2,-10)] gives us all elements of x EXCEPT for the 2nd and 10 elements.  Try x[c(-2, -10)] now to see this.\n",
                "    \n"
            ]
        },
        {
            "cell_type": "code",
            "execution_count": null,
            "metadata": {},
            "outputs": [],
            "source": [
                "     x[c(-2, -10)]\n",
                "\n"
            ]
        },
        {
            "cell_type": "markdown",
            "metadata": {},
            "source": " Create a numeric vector with three named elements using vect <- c(foo = 11, bar = 2, norf = NA).\n"
        },
        {
            "cell_type": "code",
            "execution_count": null,
            "metadata": {},
            "outputs": [],
            "source": [
                "vect <- c(foo = 11, bar = 2, norf = NA)\n",
                "\n"
            ]
        },
        {
            "cell_type": "markdown",
            "metadata": {},
            "source": "    When we print vect to the console, you'll see that each element has a name. Try it out.\n"
        },
        {
            "cell_type": "code",
            "execution_count": null,
            "metadata": {},
            "outputs": [],
            "source": [
                "vect\n",
                "\n"
            ]
        },
        {
            "cell_type": "markdown",
            "metadata": {},
            "source": [
                "  We can also get the names of vect by passing vect as an argument to the names() function. Give that a try.\n",
                "\n",
                "  Alternatively, we can create an unnamed vector vect2 with c(11, 2, NA). Do that now.\n"
            ]
        },
        {
            "cell_type": "code",
            "execution_count": null,
            "metadata": {},
            "outputs": [],
            "source": [
                "vect2 <- c(11, 2, NA)\n",
                "\n"
            ]
        },
        {
            "cell_type": "markdown",
            "metadata": {},
            "source": [
                "    Then, we can add the `names` attribute to vect2 after the fact with \n",
                "    names(vect2) <- c(\"foo\", \"bar\", \"norf\"). Go ahead.\n"
            ]
        },
        {
            "cell_type": "code",
            "execution_count": null,
            "metadata": {},
            "outputs": [],
            "source": [
                "vect2 <- setNames(vect2, names(vect))\n",
                "vect2\n"
            ]
        },
        {
            "cell_type": "markdown",
            "metadata": {},
            "source": [
                "    One more time. You can do it! Or, type info() for more options.\n",
                "\n",
                "    Add names to vect2 with names(vect2) <- c(\"foo\", \"bar\", \"norf\").\n"
            ]
        },
        {
            "cell_type": "code",
            "execution_count": null,
            "metadata": {},
            "outputs": [],
            "source": [
                "names(vect2) <- c(\"foo\", \"bar\", \"norf\")\n",
                "\n"
            ]
        },
        {
            "cell_type": "markdown",
            "metadata": {},
            "source": "    Now, let's check that vect and vect2 are the same by passing them as arguments to the identical() function.\n"
        },
        {
            "cell_type": "code",
            "execution_count": null,
            "metadata": {},
            "outputs": [],
            "source": [
                "identical(vect, vect2)\n",
                "\n"
            ]
        },
        {
            "cell_type": "markdown",
            "metadata": {},
            "source": [
                "    Indeed, vect and vect2 are identical named vectors.\n",
                "\n",
                "    Now, back to the matter of subsetting a vector by named elements. Which of the following commands \n",
                "    do you think would give us the second element of vect?\n",
                "\n",
                "    If we want the element named \"bar\" (i.e. the second element of vect), which command would get us that?\n",
                "\n",
                "    1: vect[\"2\"]\n",
                "\n",
                "    2: vect[bar]\n",
                "\n",
                "    3: vect[\"bar\"]\n",
                "\n",
                "    Selection: 3\n"
            ]
        }
    ],
    "metadata": {
        "anaconda-cloud": "",
        "kernelspec": {
            "display_name": "R",
            "langauge": "R",
            "name": "ir"
        },
        "language_info": {
            "codemirror_mode": "r",
            "file_extension": ".r",
            "mimetype": "text/x-r-source",
            "name": "R",
            "pygments_lexer": "r",
            "version": "3.4.1"
        }
    },
    "nbformat": 4,
    "nbformat_minor": 1
}
