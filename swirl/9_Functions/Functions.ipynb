{
    "cells": [
        {
            "cell_type": "markdown",
            "metadata": {},
            "source": "\n"
        },
        {
            "cell_type": "code",
            "execution_count": null,
            "metadata": {},
            "outputs": [],
            "source": [
                "knitr::opts_chunk$set(echo = TRUE)\n",
                "\n"
            ]
        },
        {
            "cell_type": "markdown",
            "metadata": {},
            "source": [
                "## 9. Functions\n",
                "\n",
                "#### Author: swirl Team\n",
                "\n",
                "#### Acknowledgements: R Language Concepts and code questions are used here from the swirl package.\n",
                "https://www.r-project.org/nosvn/pandoc/swirl.html\n",
                "\n",
                "By writing functions, you can gain serious insight into how R works. As\n",
                "John Chambers, the creator of R, once said:\n",
                "To understand computations in R, two slogans are helpful:\n",
                "\n",
                "1. Everything that exists is an object. \n",
                "\n",
                "2. Everything that happens is a function call.\n",
                "\n",
                "You're about to write your first function! Just like you would assign a value \n",
                "to a variable with the assignment operator, you assign functions in the following way:\n",
                "\n",
                "### Example 1\n",
                "\n",
                "function_name <- function(arg1, arg2){\n",
                "Manipulate arguments in some way\n",
                "Return a value\n",
                "}\n",
                "\n",
                "arg2 represent the arguments of your function. You can manipulate the arguments\n",
                "you specify within the function. After sourcing the function, you can use the \n",
                "function by typing:\n",
                " \n",
                "function_name(value1, value2)\n",
                "\n",
                "Below we will create a function called boring_function. This function takes\n",
                "the argument `x` as input, and returns the value of x without modifying it.\n",
                "Delete the pound sign in front of the x to make the function work! Be sure to \n",
                "save this script and type submit() in the console after you make your changes.\n"
            ]
        },
        {
            "cell_type": "code",
            "execution_count": null,
            "metadata": {},
            "outputs": [],
            "source": [
                "boring_function <- function(x) {\n",
                "      x\n",
                "}\n"
            ]
        },
        {
            "cell_type": "markdown",
            "metadata": {},
            "source": [
                "\n",
                "\n"
            ]
        },
        {
            "cell_type": "code",
            "execution_count": null,
            "metadata": {},
            "outputs": [],
            "source": [
                "boring_function(\"Test3\")\n",
                "\n"
            ]
        },
        {
            "cell_type": "markdown",
            "metadata": {},
            "source": [
                "### Example 2\n",
                "You're free to implement the function my_mean however you want, as long as it\n",
                "returns the average of all of the numbers in `my_vector`.\n",
                "\n",
                "Hint #1: sum() returns the sum of a vector.\n",
                "\tEx: sum(c(1, 2, 3)) evaluates to 6\n",
                "\n",
                "Hint #2: length() returns the size of a vector.\n",
                "\tEx: length(c(1, 2, 3)) evaluates to 3\n",
                "\n",
                " Hint #3: The mean of all the numbers in a vector is equal to the sum of all of\n",
                "\t   the numbers in the vector divided by the size of the vector.\n",
                "\n",
                "Note for those of you feeling super clever: Please do not use the mean()\n",
                " function while writing this function. We're trying to teach you something \n",
                " here!\n",
                "\n",
                "Be sure to save this script and type submit() in the console after you make \n",
                "your changes.\n"
            ]
        },
        {
            "cell_type": "code",
            "execution_count": null,
            "metadata": {},
            "outputs": [],
            "source": [
                "my_mean <- function(my_vector) {\n",
                "  sum_v = sum(my_vector)\n",
                "  size_v = length(my_vector)\n",
                "  sum_v/size_v\n",
                "}\n"
            ]
        },
        {
            "cell_type": "markdown",
            "metadata": {},
            "source": "\n"
        },
        {
            "cell_type": "code",
            "execution_count": null,
            "metadata": {},
            "outputs": [],
            "source": [
                "my_mean(c(8,10,12))\n",
                "\n"
            ]
        },
        {
            "cell_type": "markdown",
            "metadata": {},
            "source": [
                "### Example 3\n",
                "Let me show you an example of a function I'm going to make up called\n",
                "increment(). Most of the time I want to use this function to increase the\n",
                "\"by\" where \"number\" is the digit I want to increment and \"by\" is the amount I\n",
                "want to increment \"number\" by. I've written the function below. \n"
            ]
        },
        {
            "cell_type": "code",
            "execution_count": null,
            "metadata": {},
            "outputs": [],
            "source": [
                "increment <- function(number, by = 1){\n",
                "    number + by\n",
                "}\n"
            ]
        },
        {
            "cell_type": "markdown",
            "metadata": {},
            "source": "\n"
        },
        {
            "cell_type": "code",
            "execution_count": null,
            "metadata": {},
            "outputs": [],
            "source": [
                "increment(5)\n",
                "increment(5,2)\n"
            ]
        },
        {
            "cell_type": "markdown",
            "metadata": {},
            "source": [
                "If you take a look in between the parentheses you can see that I've set\n",
                "\"by\" equal to 1. This means that the \"by\" argument will have the default\n",
                " value of 1.\n",
                "\n",
                "I can now use the increment function without providing a value for \"by\": \n",
                "increment(5) will evaluate to 6. \n",
                "\n",
                "However if I want to provide a value for the \"by\" argument I still can! The\n",
                "expression: increment(5, 2) will evaluate to 7. \n",
                "\n",
                "\n",
                "### Example 4\n",
                "You're going to write a function called \"remainder.\" remainder() will take\n",
                "two arguments: \"num\" and \"divisor\" where \"num\" is divided by \"divisor\" and\n",
                "the remainder is returned. Imagine that you usually want to know the remainder\n",
                "when you divide by 2, so set the default value of \"divisor\" to 2. Please be\n",
                "sure that \"num\" is the first argument and \"divisor\" is the second argument.\n",
                "\n",
                "Hint #1: You can use the modulus operator %% to find the remainder.\n",
                "Ex: 7 %% 4 evaluates to 3. \n",
                "\n",
                "Remember to set appropriate default values! Be sure to save this \n",
                "script and type submit() in the console after you write the function.\n"
            ]
        },
        {
            "cell_type": "code",
            "execution_count": null,
            "metadata": {},
            "outputs": [],
            "source": [
                "remainder <- function(num, divisor) {\n",
                "  num %% divisor\n",
                "}\n"
            ]
        },
        {
            "cell_type": "markdown",
            "metadata": {},
            "source": "\n"
        },
        {
            "cell_type": "code",
            "execution_count": null,
            "metadata": {},
            "outputs": [],
            "source": [
                "remainder(59, 7)\n",
                "\n"
            ]
        },
        {
            "cell_type": "markdown",
            "metadata": {},
            "source": [
                "\n",
                "\n"
            ]
        }
    ],
    "metadata": {
        "anaconda-cloud": "",
        "kernelspec": {
            "display_name": "R",
            "langauge": "R",
            "name": "ir"
        },
        "language_info": {
            "codemirror_mode": "r",
            "file_extension": ".r",
            "mimetype": "text/x-r-source",
            "name": "R",
            "pygments_lexer": "r",
            "version": "3.4.1"
        }
    },
    "nbformat": 4,
    "nbformat_minor": 1
}
