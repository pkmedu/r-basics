{
    "cells": [
        {
            "cell_type": "markdown",
            "metadata": {},
            "source": "\n"
        },
        {
            "cell_type": "code",
            "execution_count": null,
            "metadata": {},
            "outputs": [],
            "source": [
                "knitr::opts_chunk$set(echo = TRUE)\n",
                "\n"
            ]
        },
        {
            "cell_type": "markdown",
            "metadata": {},
            "source": [
                "## R Learning Path (originally outlined by swirl Team)\n",
                "\n",
                " 1 Basic Building Blocks   \n",
                " 2: Workspace and Files     \n",
                " 3: Sequences of Numbers      \n",
                " 4: Vectors                 \n",
                " 5: Missing Values             \n",
                " 6: Subsetting Vectors      \n",
                " 7: Matrices and Data Frames\n",
                " \n",
                " 8: Logic                   \n",
                " 9: Functions              \n",
                "10: lapply and sapply       \n",
                "11: vapply and tapply         \n",
                "12: Looking at Data         \n",
                "13: Simulation            \n",
                "14: Dates and Times         \n",
                "15: Base Graphics   \n"
            ]
        }
    ],
    "metadata": {
        "anaconda-cloud": "",
        "kernelspec": {
            "display_name": "R",
            "langauge": "R",
            "name": "ir"
        },
        "language_info": {
            "codemirror_mode": "r",
            "file_extension": ".r",
            "mimetype": "text/x-r-source",
            "name": "R",
            "pygments_lexer": "r",
            "version": "3.4.1"
        }
    },
    "nbformat": 4,
    "nbformat_minor": 1
}
