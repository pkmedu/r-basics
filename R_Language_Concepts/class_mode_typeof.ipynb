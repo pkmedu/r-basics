{
    "cells": [
        {
            "cell_type": "markdown",
            "metadata": {},
            "source": [
                "## R Data Types and Data Structures\n",
                "\n",
                "From: https://www.mail-archive.com/r-help@r-project.org/msg17169.html :\n",
                "\n",
                "'mode' is a mutually exclusive classification of objects according to their basic structure. The 'atomic' modes are numeric, complex, character and logical. Recursive objects have modes such as 'list' or 'function' or a few others. An object has one and only one mode.\n",
                "\n",
                "'class' is a property assigned to an object that determines how generic functions operate with it. It is not a mutually exclusive classification. If an object has no specific class assigned to it, such as a simple numeric vector, it's class is usually the same as its mode, by convention.\n",
                "\n",
                "Changing the mode of an object is often called 'coercion'. The mode of an object can change without necessarily changing the class.\n",
                "\n",
                "The main difference between class and typeof is that the first can be defined by the user, but the type cannot.\n",
                "\n",
                "### Everything in R is an object.\n",
                "\n",
                "#### R has 6 basic data types. (In addition to the five listed below, there is also raw which will not be discussed here.)\n",
                "\n",
                "* character\n",
                "\n",
                "* numeric (real or decimal)\n",
                "\n",
                "* integer\n",
                "\n",
                "* logical\n",
                "\n",
                "* complex\n",
                "\n",
                "Elements of these data types may be combined to form data structures, such as atomic vectors. When we call a vector atomic, we mean that the vector only holds data of a single data type. Below are examples of atomic character vectors, numeric vectors, integer vectors, etc.\n",
                "\n",
                "* character: \"a\", \"swc\"\n",
                "\n",
                "* numeric: 2, 15.5\n",
                "\n",
                "\n",
                "* integer: 2L (the L tells R to store this as an integer)\n",
                "\n",
                "* logical: TRUE, FALSE\n",
                "\n",
                "* complex: 1+4i (complex numbers with real and imaginary parts)\n",
                "\n",
                "#### R provides many functions to examine features of vectors and other objects, for example\n",
                "\n",
                "* class() - what kind of object is it (high-level)?\n",
                "\n",
                "* typeof() - what is the object’s data type (low-level)?\n",
                "\n",
                "* length() - how long is it? What about two dimensional objects?\n",
                "\n",
                "* attributes() - does it have any metadata?\n"
            ]
        },
        {
            "cell_type": "code",
            "execution_count": null,
            "metadata": {},
            "outputs": [],
            "source": [
                "df1 <- data.frame(tf= c(TRUE, FALSE), \n",
                "                  nume = c(45, 37.49),\n",
                "                  integ = c(35L, 20L),\n",
                "                  complx = c(1+2i, 0+1i),\n",
                "                  char = c(\"CANCER\", \"Diarrhea\"))\n",
                "df1\n"
            ]
        },
        {
            "cell_type": "markdown",
            "metadata": {},
            "source": "\n"
        },
        {
            "cell_type": "code",
            "execution_count": null,
            "metadata": {},
            "outputs": [],
            "source": [
                "paste(\"Class of various data types\")\n",
                "sapply(df1, class)\n",
                "\n",
                "paste(\"mode of various data types\")\n",
                "sapply(df1, mode)\n",
                "\n",
                "paste(\"typeof of various data types\")\n",
                "sapply (df1, typeof)\n"
            ]
        },
        {
            "cell_type": "markdown",
            "metadata": {},
            "source": [
                "\n",
                "\n"
            ]
        }
    ],
    "metadata": {
        "anaconda-cloud": "",
        "kernelspec": {
            "display_name": "R",
            "langauge": "R",
            "name": "ir"
        },
        "language_info": {
            "codemirror_mode": "r",
            "file_extension": ".r",
            "mimetype": "text/x-r-source",
            "name": "R",
            "pygments_lexer": "r",
            "version": "3.4.1"
        }
    },
    "nbformat": 4,
    "nbformat_minor": 1
}
